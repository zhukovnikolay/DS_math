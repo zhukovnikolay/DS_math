{
 "cells": [
  {
   "cell_type": "markdown",
   "metadata": {},
   "source": [
    "## Homework 4\n",
    "### Тема “Теоремы о пределах”\n",
    "#### 1. Найти предел"
   ]
  },
  {
   "cell_type": "markdown",
   "metadata": {},
   "source": [
    "$$1.\\lim_{x\\to0} \\frac{sin(2x)}{4x} = \\frac{1}{2}\\cdot\\frac{sin(2x)}{2x} = \\frac{1}{2}\\cdot1 = \\frac{1}{2}$$\n",
    "Использован первый замечательный предел"
   ]
  },
  {
   "cell_type": "markdown",
   "metadata": {},
   "source": [
    "________\n",
    "$$2.\\lim_{x\\to0} \\frac{x}{sin(x)} = \\frac{x}{x} = 1$$\n",
    "Использована эквивалентность sin(x)~x.\n",
    "\n",
    "Альтернативное решение через правило Лопиталя:\n",
    "$$\\lim_{x\\to0} \\frac{x}{sin(x)} = \\frac{x'}{(sin(x))'} = \\frac{1}{cos(x)} = 1$$"
   ]
  },
  {
   "cell_type": "markdown",
   "metadata": {},
   "source": [
    "_____\n",
    "$$3.\\lim_{x\\to0} \\frac{x}{arcsin(x)} = \\frac{x}{x} = 1$$\n",
    "Использована эквивалентность arcsin(x)~x\n",
    "\n",
    "Альтернативное решение через правило Лопиталя:\n",
    "$$\\lim_{x\\to0} \\frac{x}{arcsin(x)} = \\frac{x'}{(arcsin(x))'} = \\frac{1}{\\frac{1}{\\sqrt{1-x^2}}} = 1$$"
   ]
  },
  {
   "cell_type": "markdown",
   "metadata": {},
   "source": [
    "______\n",
    "$$4. \\lim_{x\\to\\infty} \\left(\\frac{4x+3}{4x-3}\\right)^{6x} = \\left(1 + \\frac{6}{4x-3}\\right)^{6x} = $$\n",
    "$$=\\left(1 + \\frac{6}{4x-3}\\right)^{\\frac{4x-3}{6}\\cdot\\frac{6}{4x-3}\\cdot6x} = e^{\\lim_{x\\to\\infty} \\frac{6}{4x-3}\\cdot6x} = e^9$$"
   ]
  },
  {
   "cell_type": "markdown",
   "metadata": {},
   "source": [
    "____\n",
    "$$ 5. \\lim_{x\\to\\infty} \\frac{sinx + lnx}{x} = \\frac{sinx}{x} + \\frac{lnx}{x} = 0 + 0 = 0$$\n",
    "\n",
    "Вторая дробь будет стремиться к 0, т.к. функция x растет быстрее функции lnx. Можно убедиться в этом при помощи правила Лопиталя:\n",
    "$$\\lim_{x\\to\\infty} = \\frac{(lnx)'}{x'} = \\frac{\\frac{1}{x}}{1} = 0$$"
   ]
  },
  {
   "cell_type": "markdown",
   "metadata": {},
   "source": [
    "_____\n",
    "$$6.\\lim_{x\\to0} \\frac{sinx + lnx}{x} = 1 + \\frac{\\frac{1}{x}}{1} = 1 + \\infty = \\infty$$"
   ]
  },
  {
   "cell_type": "markdown",
   "metadata": {},
   "source": [
    "### Тема “Понятие о производной”\n",
    "#### 1. Найти производную"
   ]
  },
  {
   "cell_type": "markdown",
   "metadata": {},
   "source": [
    "$$(sinx\\cdot cosx)' = (sinx)'\\cdot cosx + (cosx)'\\cdot sinx = cos^2x - sin^2x$$"
   ]
  },
  {
   "cell_type": "markdown",
   "metadata": {},
   "source": [
    "______\n",
    "$$(ln(2x+1)^3)' = \\frac{1}{(2x+1)^3} \\cdot 3(2x+1)^2 \\cdot 2 = \\frac{6}{2x+1}$$"
   ]
  },
  {
   "cell_type": "markdown",
   "metadata": {},
   "source": [
    "_______\n",
    "$$\\left(\\frac{x^4}{ln(x)}\\right)' = \\frac{(x^4)'\\cdot ln(x) - (ln(x))' \\cdot x^4}{ln^2(x)} = \\frac{4x^3\\cdot ln(x) - x^3}{ln^2(x)} = \\frac{x^3(4ln(x)-1)}{ln^2(x)}$$"
   ]
  },
  {
   "cell_type": "code",
   "execution_count": null,
   "metadata": {},
   "outputs": [],
   "source": []
  }
 ],
 "metadata": {
  "kernelspec": {
   "display_name": "Python 3",
   "language": "python",
   "name": "python3"
  },
  "language_info": {
   "codemirror_mode": {
    "name": "ipython",
    "version": 3
   },
   "file_extension": ".py",
   "mimetype": "text/x-python",
   "name": "python",
   "nbconvert_exporter": "python",
   "pygments_lexer": "ipython3",
   "version": "3.8.5"
  }
 },
 "nbformat": 4,
 "nbformat_minor": 4
}
