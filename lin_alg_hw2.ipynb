{
 "cells": [
  {
   "cell_type": "markdown",
   "metadata": {},
   "source": [
    "## Homework 2"
   ]
  },
  {
   "cell_type": "markdown",
   "metadata": {},
   "source": [
    "### Матрицы и матричные операции"
   ]
  },
  {
   "cell_type": "markdown",
   "metadata": {},
   "source": [
    "**1. Установить, какие произведения матриц $AB$ и $BA$ определены, и найти размерности полученных матриц:**"
   ]
  },
  {
   "cell_type": "markdown",
   "metadata": {},
   "source": [
    "**а) $A$ — матрица $4\\times 2$, $B$ — матрица $4\\times 2$;**"
   ]
  },
  {
   "cell_type": "markdown",
   "metadata": {},
   "source": [
    "Для того, чтобы произведения матриц были определены, их размерности должны быть $m\\times n$ и $n\\times k$ (чтобы число столбцов матрицы $A$ было равно числу строк матрицы $B$). Таким образом, произведения матриц AB и BA не определены."
   ]
  },
  {
   "cell_type": "markdown",
   "metadata": {},
   "source": [
    "**б) $A$ — матрица $2\\times 5$, $B$ — матрица $5\\times 3$;**"
   ]
  },
  {
   "cell_type": "markdown",
   "metadata": {},
   "source": [
    "Из описанного выше условия, произведение матриц AB определено, размерность полученной матрицы $2 \\times 3$. Произведение матриц BA не определено."
   ]
  },
  {
   "cell_type": "markdown",
   "metadata": {},
   "source": [
    "**в) $A$ — матрица $8\\times 3$, $B$ — матрица $3\\times 8$;**"
   ]
  },
  {
   "cell_type": "markdown",
   "metadata": {},
   "source": [
    "Из описанного выше условия, произведение матриц AB определено, размерность полученной матрицы $8 \\times 8$. Произведение матриц BA определено, размерность полученной матрицы $3 \\times 3$."
   ]
  },
  {
   "cell_type": "markdown",
   "metadata": {},
   "source": [
    "**г) $A$ — квадратная матрица $4\\times 4$, $B$ — квадратная матрица $4\\times 4$.**"
   ]
  },
  {
   "cell_type": "markdown",
   "metadata": {},
   "source": [
    "Из описанного выше условия, произведение матриц AB и BA определены, размерность полученных матриц $4 \\times 4$."
   ]
  },
  {
   "cell_type": "markdown",
   "metadata": {},
   "source": [
    "**2. Найти сумму и произведение матриц $A=\\begin{pmatrix}\n",
    "1 & -2\\\\ \n",
    "3 & 0\n",
    "\\end{pmatrix}$ и $B=\\begin{pmatrix}\n",
    "4 & -1\\\\ \n",
    "0 & 5\n",
    "\\end{pmatrix}.$**"
   ]
  },
  {
   "cell_type": "markdown",
   "metadata": {},
   "source": [
    "Сумма матриц:"
   ]
  },
  {
   "cell_type": "markdown",
   "metadata": {},
   "source": [
    "$$A + B = \n",
    "\\begin{pmatrix}\n",
    "1 & -2\\\\ \n",
    "3 & 0\\\\\n",
    "\\end{pmatrix} + \\begin{pmatrix}\n",
    "4 & -1\\\\ \n",
    "0 & 5\\\\  \n",
    "\\end{pmatrix} = \\begin{pmatrix}\n",
    "5 & -3\\\\ \n",
    "3 & 5\\\\ \n",
    "\\end{pmatrix}$$"
   ]
  },
  {
   "cell_type": "markdown",
   "metadata": {},
   "source": [
    "Произведение матриц $A\\cdot B$:"
   ]
  },
  {
   "cell_type": "markdown",
   "metadata": {},
   "source": [
    "$$A\\cdot B=\\begin{pmatrix}\n",
    "1\\cdot4-2\\cdot0 & 1\\cdot(-1)-2\\cdot5\\\\ \n",
    "3\\cdot4+0\\cdot0 & 3\\cdot(-1)+0\\cdot5\\\\ \n",
    "\\end{pmatrix}=\\begin{pmatrix}\n",
    "4 & -11\\\\ \n",
    "12 & -3\n",
    "\\end{pmatrix}.$$"
   ]
  },
  {
   "cell_type": "markdown",
   "metadata": {},
   "source": [
    "Произведение матриц $B\\cdot A$:"
   ]
  },
  {
   "cell_type": "markdown",
   "metadata": {},
   "source": [
    "$$B\\cdot A=\\begin{pmatrix}\n",
    "4\\cdot1-1\\cdot3 & 4\\cdot(-2)-1\\cdot0\\\\ \n",
    "0\\cdot1+5\\cdot3 & 0\\cdot(-2)+5\\cdot0\\\\ \n",
    "\\end{pmatrix}=\\begin{pmatrix}\n",
    "1 & -8\\\\ \n",
    "15 & 0\n",
    "\\end{pmatrix}.$$"
   ]
  },
  {
   "cell_type": "code",
   "execution_count": 1,
   "metadata": {},
   "outputs": [
    {
     "name": "stdout",
     "output_type": "stream",
     "text": [
      "Матрица A\n",
      "[[ 1 -2]\n",
      " [ 3  0]]\n",
      "Матрица B\n",
      "[[ 4 -1]\n",
      " [ 0  5]]\n",
      "Матрица A+B\n",
      "[[ 5 -3]\n",
      " [ 3  5]]\n",
      "Матрица AB\n",
      "[[  4 -11]\n",
      " [ 12  -3]]\n",
      "Матрица BA\n",
      "[[ 1 -8]\n",
      " [15  0]]\n"
     ]
    }
   ],
   "source": [
    "# проверяем\n",
    "import numpy as np\n",
    "A = np.array([[1, -2], [3, 0]])\n",
    "B = np.array([[4, -1], [0, 5]])\n",
    "\n",
    "print(f'Матрица A\\n{A}')\n",
    "print(f'Матрица B\\n{B}')\n",
    "print(f'Матрица A+B\\n{A + B}')\n",
    "print(f'Матрица AB\\n{np.dot(A, B)}')\n",
    "print(f'Матрица BA\\n{np.dot(B, A)}')"
   ]
  },
  {
   "cell_type": "markdown",
   "metadata": {},
   "source": [
    "**3. Из закономерностей сложения и умножения матриц на число можно сделать вывод, что матрицы одного размера образуют линейное пространство. Вычислить линейную комбинацию $3A-2B+4C$ для матриц $A=\\begin{pmatrix}\n",
    "1 & 7\\\\ \n",
    "3 & -6\n",
    "\\end{pmatrix}$, $B=\\begin{pmatrix}\n",
    "0 & 5\\\\ \n",
    "2 & -1\n",
    "\\end{pmatrix}$, $C=\\begin{pmatrix}\n",
    "2 & -4\\\\ \n",
    "1 & 1\n",
    "\\end{pmatrix}.$**"
   ]
  },
  {
   "cell_type": "markdown",
   "metadata": {},
   "source": [
    "$3A=\\begin{pmatrix}\n",
    "3 & 21\\\\ \n",
    "9 & -18\n",
    "\\end{pmatrix}$, $2B=\\begin{pmatrix}\n",
    "0 & 10\\\\ \n",
    "4 & -2\n",
    "\\end{pmatrix}$, $4C=\\begin{pmatrix}\n",
    "8 & -16\\\\ \n",
    "4 & 4\n",
    "\\end{pmatrix}.$"
   ]
  },
  {
   "cell_type": "markdown",
   "metadata": {},
   "source": [
    "$$3A - 2B + 4C = \n",
    "\\begin{pmatrix}\n",
    "3 - 0 + 8 & 21 - 10 - 16\\\\ \n",
    "9 - 4 + 4 & -18 + 2 + 4\\\\\n",
    "\\end{pmatrix} = \\begin{pmatrix}\n",
    "11 & -5\\\\ \n",
    "9 & -12\\\\ \n",
    "\\end{pmatrix}$$"
   ]
  },
  {
   "cell_type": "code",
   "execution_count": 2,
   "metadata": {},
   "outputs": [
    {
     "name": "stdout",
     "output_type": "stream",
     "text": [
      "Матрица A\n",
      "[[ 1  7]\n",
      " [ 3 -6]]\n",
      "Матрица B\n",
      "[[ 0  5]\n",
      " [ 2 -1]]\n",
      "Матрица C\n",
      "[[ 2 -4]\n",
      " [ 1  1]]\n",
      "Матрица 3A-2B+4C\n",
      "[[ 11  -5]\n",
      " [  9 -12]]\n"
     ]
    }
   ],
   "source": [
    "# проверяем\n",
    "A = np.array([[1, 7], [3, -6]])\n",
    "B = np.array([[0, 5], [2, -1]])\n",
    "C = np.array([[2, -4], [1, 1]])\n",
    "\n",
    "print(f'Матрица A\\n{A}')\n",
    "print(f'Матрица B\\n{B}')\n",
    "print(f'Матрица C\\n{C}')\n",
    "print(f'Матрица 3A-2B+4C\\n{3 * A - 2 * B + 4 * C}')"
   ]
  },
  {
   "cell_type": "markdown",
   "metadata": {},
   "source": [
    "**4. Дана матрица $A=\\begin{pmatrix}\n",
    "4 & 1\\\\ \n",
    "5 & -2\\\\ \n",
    "2 & 3\n",
    "\\end{pmatrix}$.\n",
    "Вычислить $AA^{T}$ и $A^{T}A$.**"
   ]
  },
  {
   "cell_type": "markdown",
   "metadata": {},
   "source": [
    "$A^T=\\begin{pmatrix}\n",
    "4 & 5 & 2\\\\ \n",
    "1 & -2 & 3\n",
    "\\end{pmatrix}$."
   ]
  },
  {
   "cell_type": "markdown",
   "metadata": {},
   "source": [
    "$$A\\cdot A^T=\\begin{pmatrix}\n",
    "4\\cdot4+1\\cdot1 & 4\\cdot5+1\\cdot(-2)& 4\\cdot2+1\\cdot3\\\\ \n",
    "5\\cdot4-2\\cdot1 & 5\\cdot5-2\\cdot(-2)& 5\\cdot2-2\\cdot3\\\\\n",
    "2\\cdot4+3\\cdot1 & 2\\cdot5+3\\cdot(-2)& 2\\cdot2+3\\cdot3\\\\\n",
    "\\end{pmatrix}=\\begin{pmatrix}\n",
    "17 & 18 & 11\\\\ \n",
    "18 & 29 & 4\\\\\n",
    "11 & 4 & 13\\\\\n",
    "\\end{pmatrix}.$$"
   ]
  },
  {
   "cell_type": "markdown",
   "metadata": {},
   "source": [
    "$$A^T\\cdot A=\\begin{pmatrix}\n",
    "4\\cdot4+5\\cdot5+2\\cdot2 & 4\\cdot1+5\\cdot(-2)+2\\cdot3\\\\ \n",
    "1\\cdot4-2\\cdot5+3\\cdot2 & 1\\cdot1-2\\cdot(-2)+3\\cdot3\n",
    "\\end{pmatrix}=\\begin{pmatrix}\n",
    "45 & 0\\\\ \n",
    "0 & 14\n",
    "\\end{pmatrix}.$$"
   ]
  },
  {
   "cell_type": "code",
   "execution_count": 3,
   "metadata": {},
   "outputs": [
    {
     "name": "stdout",
     "output_type": "stream",
     "text": [
      "Матрица A\n",
      "[[ 4  1]\n",
      " [ 5 -2]\n",
      " [ 2  3]]\n",
      "Матрица A_T\n",
      "[[ 4  5  2]\n",
      " [ 1 -2  3]]\n",
      "Матрица AA_T\n",
      "[[17 18 11]\n",
      " [18 29  4]\n",
      " [11  4 13]]\n",
      "Матрица A_TA\n",
      "[[45  0]\n",
      " [ 0 14]]\n"
     ]
    }
   ],
   "source": [
    "# проверяем\n",
    "A = np.array([[4, 1], [5, -2], [2, 3]])\n",
    "\n",
    "print(f'Матрица A\\n{A}')\n",
    "print(f'Матрица A_T\\n{A.T}')\n",
    "print(f'Матрица AA_T\\n{np.dot(A, A.T)}')\n",
    "print(f'Матрица A_TA\\n{np.dot(A.T, A)}')"
   ]
  },
  {
   "cell_type": "markdown",
   "metadata": {},
   "source": [
    "**5. Написать на Python функцию для перемножения двух произвольных матриц, не используя NumPy.**"
   ]
  },
  {
   "cell_type": "code",
   "execution_count": 16,
   "metadata": {},
   "outputs": [],
   "source": [
    "def check_matrix(a):\n",
    "    matrix_lines = len(a)\n",
    "    matrix_columns = 0\n",
    "    for line in a:\n",
    "        if matrix_columns == 0:\n",
    "            matrix_columns = len(line)\n",
    "        elif len(line) != matrix_columns:\n",
    "            raise ValueError('Incorrect matrix')\n",
    "    return matrix_lines, matrix_columns\n",
    "\n",
    "def matrix_prod(a, b):\n",
    "    result = []\n",
    "    line_list = []\n",
    "    el_sum = 0\n",
    "    matrix_a_lines, matrix_a_columns = check_matrix(a)\n",
    "    matrix_b_lines, matrix_b_columns = check_matrix(b)\n",
    "    if matrix_a_columns != matrix_b_lines:\n",
    "        raise ValueError('Incorrect matrix size')\n",
    "    else:\n",
    "        for line_idx in range(matrix_a_lines):\n",
    "            for column_b_idx in range(matrix_b_columns):\n",
    "                for idx in range(matrix_a_columns):\n",
    "                    el_sum += a[line_idx][idx] * b[idx][column_b_idx]\n",
    "                line_list.append(el_sum)\n",
    "                el_sum = 0\n",
    "            result.append(line_list)\n",
    "            line_list = []\n",
    "    return result"
   ]
  },
  {
   "cell_type": "code",
   "execution_count": 17,
   "metadata": {},
   "outputs": [
    {
     "name": "stdout",
     "output_type": "stream",
     "text": [
      "[[35, 14], [57, 26]]\n",
      "[[35 14]\n",
      " [57 26]]\n"
     ]
    }
   ],
   "source": [
    "# проверяем\n",
    "a = [[1, 2, 4], [3, 4, 6]]\n",
    "b = [[1, 2], [3, 2], [7, 2]]\n",
    "print(matrix_prod(a, b))\n",
    "A = np.array(a)\n",
    "B = np.array(b)\n",
    "print(A.dot(B))"
   ]
  },
  {
   "cell_type": "markdown",
   "metadata": {},
   "source": [
    "### Часть 2"
   ]
  },
  {
   "cell_type": "markdown",
   "metadata": {},
   "source": [
    "**1.Вычислить определитель:**"
   ]
  },
  {
   "cell_type": "markdown",
   "metadata": {},
   "source": [
    "**a)\n",
    "$$\\begin{vmatrix}\n",
    "sinx & -cosx\\\\ \n",
    "cosx & sinx\n",
    "\\end{vmatrix} = sin^2x + cos^2x = 1$$**"
   ]
  },
  {
   "cell_type": "markdown",
   "metadata": {},
   "source": [
    "**б)\n",
    "$$\\begin{vmatrix}\n",
    "4 & 2 & 3\\\\ \n",
    "0 & 5 & 1\\\\ \n",
    "0 & 0 & 9\n",
    "\\end{vmatrix} = 4 \\cdot 5 \\cdot 9 = 180$$**"
   ]
  },
  {
   "cell_type": "code",
   "execution_count": 18,
   "metadata": {},
   "outputs": [
    {
     "name": "stdout",
     "output_type": "stream",
     "text": [
      "Матрица:\n",
      "[[4 2 3]\n",
      " [0 5 1]\n",
      " [0 0 9]]\n",
      "Определитель:\n",
      "180\n"
     ]
    }
   ],
   "source": [
    "# проверяем\n",
    "a = np.array([[4, 2, 3], [0, 5, 1], [0, 0, 9]])\n",
    "print(f'Матрица:\\n{a}')\n",
    "print(f'Определитель:\\n{np.linalg.det(a):.0f}')"
   ]
  },
  {
   "cell_type": "markdown",
   "metadata": {},
   "source": [
    "**в)\n",
    "$$\\begin{vmatrix}\n",
    "1 & 2 & 3\\\\ \n",
    "4 & 5 & 6\\\\ \n",
    "7 & 8 & 9\n",
    "\\end{vmatrix} = \n",
    "\\begin{vmatrix}\n",
    "1 & 2 & 3\\\\ \n",
    "0 & -3 & -6\\\\ \n",
    "0 & -6 & -12\n",
    "\\end{vmatrix} = \n",
    "\\begin{vmatrix}\n",
    "1 & 2 & 3\\\\ \n",
    "0 & -3 & -6\\\\ \n",
    "0 & 0 & 0\n",
    "\\end{vmatrix} = 0$$**"
   ]
  },
  {
   "cell_type": "markdown",
   "metadata": {},
   "source": [
    "Мы умножили первую строку на 4 и 7 и вычли результат из строк 2 и 3 соответственно, потом вычли удвоенную строку 2 из строки 3. В результате у матрицы появилась нулевая строка, из чего следует, что определитель равен нулю, а исходная матрица - вырожденная."
   ]
  },
  {
   "cell_type": "code",
   "execution_count": 19,
   "metadata": {},
   "outputs": [
    {
     "name": "stdout",
     "output_type": "stream",
     "text": [
      "Матрица:\n",
      "[[1 2 3]\n",
      " [4 5 6]\n",
      " [7 8 9]]\n",
      "Определитель:\n",
      "-0\n"
     ]
    }
   ],
   "source": [
    "# проверяем\n",
    "a = np.array([[1, 2, 3], [4, 5, 6], [7, 8, 9]])\n",
    "print(f'Матрица:\\n{a}')\n",
    "print(f'Определитель:\\n{np.linalg.det(a):.0f}')"
   ]
  },
  {
   "cell_type": "markdown",
   "metadata": {},
   "source": [
    "**2. Определитель матрицы $A$ равен $4$. Найти:**"
   ]
  },
  {
   "cell_type": "markdown",
   "metadata": {},
   "source": [
    "**а) $det(A^{2})$**"
   ]
  },
  {
   "cell_type": "markdown",
   "metadata": {},
   "source": [
    "Из свойств определителя, $$det(AA)=detA\\cdot detA = 16$$"
   ]
  },
  {
   "cell_type": "markdown",
   "metadata": {},
   "source": [
    "**б) $det(A^{T})$**"
   ]
  },
  {
   "cell_type": "markdown",
   "metadata": {},
   "source": [
    "Из свойств определителя, определитель транспонированной матрицы равен определителю исходной = 4."
   ]
  },
  {
   "cell_type": "markdown",
   "metadata": {},
   "source": [
    "**в) $det(2A)$**"
   ]
  },
  {
   "cell_type": "markdown",
   "metadata": {},
   "source": [
    "Из свойства определителя \"умножение строки или столбца матрицы на число $\\lambda$ приведет к умножению определителя матрицы на то же число\" следует, что $det(2A) = 4\\cdot2^n$, где n - количество строк матрицы. "
   ]
  },
  {
   "cell_type": "markdown",
   "metadata": {},
   "source": [
    "**3. Доказать, что матрица\n",
    "$$\\begin{pmatrix}\n",
    "-2 & 7 & -3\\\\ \n",
    "4 & -14 & 6\\\\ \n",
    "-3 & 7 & 13\n",
    "\\end{pmatrix}$$\n",
    "вырожденная.**"
   ]
  },
  {
   "cell_type": "markdown",
   "metadata": {},
   "source": [
    "Матрица является вырожденной, если ее определитель равен нулю. Из свойств определителя известно, что если две строки матрицы линейно зависимы, то определитель этой матрицы равен нулю. Замечаем, что строки 1 и 2 линейно зависимы (строка 2 равна удвоенной строке 1 с измененным знаком), таким образом исследуемая матрица - вырожденная."
   ]
  },
  {
   "cell_type": "markdown",
   "metadata": {},
   "source": [
    "**4. Найти ранг матрицы:**"
   ]
  },
  {
   "cell_type": "markdown",
   "metadata": {},
   "source": [
    "**а) $\\begin{pmatrix}\n",
    "1 & 2 & 3\\\\ \n",
    "1 & 1 & 1\\\\ \n",
    "2 & 3 & 4\n",
    "\\end{pmatrix}$**"
   ]
  },
  {
   "cell_type": "markdown",
   "metadata": {},
   "source": [
    "Замечаем, что строка 3 является линейной комбинацией строк 1 и 2, исключаем ее, вычитаем из строки 2 строку 1:\n",
    "\n",
    "$$\\begin{pmatrix}\n",
    "1 & 2 & 3\\\\ \n",
    "1 & 1 & 1\n",
    "\\end{pmatrix} = \n",
    "\\begin{pmatrix}\n",
    "1 & 2 & 3\\\\ \n",
    "0 & -1 & -2\n",
    "\\end{pmatrix}$$"
   ]
  },
  {
   "cell_type": "markdown",
   "metadata": {},
   "source": [
    "Ранг матрицы = 2."
   ]
  },
  {
   "cell_type": "code",
   "execution_count": 26,
   "metadata": {},
   "outputs": [
    {
     "name": "stdout",
     "output_type": "stream",
     "text": [
      "Матрица:\n",
      "[[1 2 3]\n",
      " [1 1 1]\n",
      " [2 3 4]]\n",
      "Ранг матрицы:\n",
      "2\n"
     ]
    }
   ],
   "source": [
    "# проверяем\n",
    "a = np.array([[1, 2, 3], [1, 1, 1], [2, 3, 4]])\n",
    "print(f'Матрица:\\n{a}')\n",
    "print(f'Ранг матрицы:\\n{np.linalg.matrix_rank(a)}')"
   ]
  },
  {
   "cell_type": "markdown",
   "metadata": {},
   "source": [
    "**б) $\\begin{pmatrix}\n",
    "0 & 0 & 2 & 1\\\\ \n",
    "0 & 0 & 2 & 2\\\\ \n",
    "0 & 0 & 4 & 3\\\\ \n",
    "2 & 3 & 5 & 6\n",
    "\\end{pmatrix}$**"
   ]
  },
  {
   "cell_type": "markdown",
   "metadata": {},
   "source": [
    "Строка 3 является линейной комбинацией строк 1 и 2, исключаем ее, вычитаем из строки 1 строку 2 и меняем столбцы местами:\n",
    "\n",
    "$$\\begin{pmatrix}\n",
    "0 & 0 & 2 & 1\\\\ \n",
    "0 & 0 & 2 & 2\\\\ \n",
    "2 & 3 & 5 & 6\n",
    "\\end{pmatrix} =\n",
    "\\begin{pmatrix}\n",
    "0 & 0 & 0 & -1\\\\ \n",
    "0 & 0 & 2 & 2\\\\ \n",
    "2 & 3 & 5 & 6\n",
    "\\end{pmatrix} = \n",
    "\\begin{pmatrix}\n",
    "-1 & 0 & 0 & 0\\\\ \n",
    "2 & 2 & 0 & 0\\\\ \n",
    "6 & 5 & 3 & 2\n",
    "\\end{pmatrix}$$"
   ]
  },
  {
   "cell_type": "markdown",
   "metadata": {},
   "source": [
    "Ранг матрицы = 3"
   ]
  },
  {
   "cell_type": "code",
   "execution_count": 27,
   "metadata": {},
   "outputs": [
    {
     "name": "stdout",
     "output_type": "stream",
     "text": [
      "Матрица:\n",
      "[[0 0 2 1]\n",
      " [0 0 2 2]\n",
      " [0 0 4 3]\n",
      " [2 3 5 6]]\n",
      "Ранг матрицы:\n",
      "3\n"
     ]
    }
   ],
   "source": [
    "# проверяем\n",
    "a = np.array([[0, 0, 2, 1], [0, 0, 2, 2], [0, 0, 4, 3], [2, 3, 5, 6]])\n",
    "print(f'Матрица:\\n{a}')\n",
    "print(f'Ранг матрицы:\\n{np.linalg.matrix_rank(a)}')"
   ]
  },
  {
   "cell_type": "code",
   "execution_count": null,
   "metadata": {},
   "outputs": [],
   "source": []
  }
 ],
 "metadata": {
  "kernelspec": {
   "display_name": "Python 3",
   "language": "python",
   "name": "python3"
  },
  "language_info": {
   "codemirror_mode": {
    "name": "ipython",
    "version": 3
   },
   "file_extension": ".py",
   "mimetype": "text/x-python",
   "name": "python",
   "nbconvert_exporter": "python",
   "pygments_lexer": "ipython3",
   "version": "3.8.5"
  }
 },
 "nbformat": 4,
 "nbformat_minor": 4
}
