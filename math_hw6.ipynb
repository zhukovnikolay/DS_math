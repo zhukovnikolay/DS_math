{
 "cells": [
  {
   "cell_type": "markdown",
   "metadata": {},
   "source": [
    "## Homework 6\n",
    "#### №1. Найти длину 𝑥 и ширину 𝑦 прямоугольника при заданном периметре 𝑃=144 cм, при которых данный прямоугольник имеет наибольшую площадь 𝑆."
   ]
  },
  {
   "cell_type": "markdown",
   "metadata": {},
   "source": [
    "Выразим y через x из формулы периметра:\n",
    "$$ 2y + 2x = 144, y = 72 - x $$"
   ]
  },
  {
   "cell_type": "markdown",
   "metadata": {},
   "source": [
    "Площадь прямоугольника:\n",
    "$$S = x \\cdot y = 72x - x^2$$"
   ]
  },
  {
   "cell_type": "markdown",
   "metadata": {},
   "source": [
    "Необходимо найти максимальную S, для этого найдем производную S(x):\n",
    "$$S'(x) = 72 - 2x$$"
   ]
  },
  {
   "cell_type": "markdown",
   "metadata": {},
   "source": [
    "Для определения максимума S приравняем производную к 0:\n",
    "$$72 - 2x = 0, x = 36$$\n",
    "Получаем критическую точку в x = 36.\n",
    "При этом данное значение будет максимумом функции, т.к. знак при x отрицателен (справа от экстремума будет \"-\") и степень x нечетная (знак при переходе через точку экстремума меняется)."
   ]
  },
  {
   "cell_type": "markdown",
   "metadata": {},
   "source": [
    "Проверим это подстановкой. \n",
    "\n",
    "S'(37) = 72 - 74 = -2 < 0\n",
    "\n",
    "S'(35) = 72 - 70 = 2 > 0"
   ]
  },
  {
   "cell_type": "markdown",
   "metadata": {},
   "source": [
    "Таким образом наибольшую площадь прямоугольник будет иметь при x = y = 36, т.е. будет являться квадратом."
   ]
  },
  {
   "cell_type": "markdown",
   "metadata": {},
   "source": [
    "#### №2. Найти экстремумы функций (если они есть)"
   ]
  },
  {
   "cell_type": "markdown",
   "metadata": {},
   "source": [
    "$$y = |2x|$$"
   ]
  },
  {
   "cell_type": "markdown",
   "metadata": {},
   "source": [
    "\\begin{equation*}\n",
    "y' = \n",
    " \\begin{cases}\n",
    "   2, &\\text{x > 0}\\\\\n",
    "   -2, &\\text{x < 0}\n",
    " \\end{cases}\n",
    "\\end{equation*}"
   ]
  },
  {
   "cell_type": "markdown",
   "metadata": {},
   "source": [
    "Необходимое условие экстремума:\n",
    "\n",
    "В точке x = 0, при приближении слева y' = -2, при приближении справа y' = 2, значит производная в точке x = 0 не существует => x = 0 - критическая точка функции."
   ]
  },
  {
   "cell_type": "markdown",
   "metadata": {},
   "source": [
    "При этом, данная точка будет являться минимумом функции, т.к. при прохождении этой точки функция меняет свой знак (с - на +), при этом функция непрерывна в точке x = 0 (y = 0), соответственно достаточное условие экстремума выполняется."
   ]
  },
  {
   "cell_type": "markdown",
   "metadata": {},
   "source": [
    "______\n",
    "$$y=x^3$$"
   ]
  },
  {
   "cell_type": "markdown",
   "metadata": {},
   "source": [
    "$$y' = 3x^2$$"
   ]
  },
  {
   "cell_type": "markdown",
   "metadata": {},
   "source": [
    "Необходимое условие экстремума:\n",
    "y' = 0, при x = 0"
   ]
  },
  {
   "cell_type": "markdown",
   "metadata": {},
   "source": [
    "При этом, данная производная не меняет свой знак при прохождении точки x = 0, т.к. степень x четная.\n",
    "\n",
    "Проверяем:\n",
    "\n",
    "y'(-1) = 1, y'(1) = 1"
   ]
  },
  {
   "cell_type": "markdown",
   "metadata": {},
   "source": [
    "Таким образом, достаточное условие экстремума не выполняется. x = 0 - точка перегиба. Функция экстремумов не имеет."
   ]
  },
  {
   "cell_type": "markdown",
   "metadata": {},
   "source": [
    "_______\n",
    "$$y = e^{3x}$$"
   ]
  },
  {
   "cell_type": "markdown",
   "metadata": {},
   "source": [
    "$$y' = 3e^{3x}$$"
   ]
  },
  {
   "cell_type": "markdown",
   "metadata": {},
   "source": [
    "Необходимое условие экстремума не выполняется, т.к. y'=0 не имеет решений, но существует для $\\forall x$ => функция экстремумов не имеет."
   ]
  },
  {
   "cell_type": "markdown",
   "metadata": {},
   "source": [
    "_______\n",
    "$$y=x^3-5x$$"
   ]
  },
  {
   "cell_type": "markdown",
   "metadata": {},
   "source": [
    "$$y' = 3x^2 - 5$$"
   ]
  },
  {
   "cell_type": "markdown",
   "metadata": {},
   "source": [
    "Необходимое условие экстремума:\n",
    "$$3x^2 - 5 = 0, x_1 = \\sqrt\\frac{5}{3}, x_2 = -\\sqrt\\frac{5}{3}$$"
   ]
  },
  {
   "cell_type": "markdown",
   "metadata": {},
   "source": [
    "Достаточное условие экстремума:\n",
    "\n",
    "y'(-2) = 7 > 0, y'(0) = - 5 < 0, y'(2) = 7 > 0.\n",
    "\n",
    "Таким образом, точка $x_2 = -\\sqrt\\frac{5}{3}$ - максимум, $x_1 = \\sqrt\\frac{5}{3}$ - минимум."
   ]
  },
  {
   "cell_type": "code",
   "execution_count": 12,
   "metadata": {},
   "outputs": [
    {
     "data": {
      "image/png": "[encoded data removed]",
      "text/plain": [
       "<Figure size 432x288 with 1 Axes>"
      ]
     },
     "metadata": {
      "needs_background": "light"
     },
     "output_type": "display_data"
    }
   ],
   "source": [
    "%matplotlib inline\n",
    "import numpy as np\n",
    "import matplotlib.pyplot as plt\n",
    "x = np.linspace(-2, 2, 24)\n",
    "y = x**3 - 5*x\n",
    "y_diff = 3*x**2 - 5\n",
    "x1 = np.sqrt(5/3)\n",
    "x2 = -np.sqrt(5/3)\n",
    "plt.plot(x, y)\n",
    "plt.plot(x, y_diff,linestyle='--')\n",
    "plt.scatter([x1, x2], [x1**3 - 5*x1, x2**3 - 5*x2], marker='o')\n",
    "plt.grid()"
   ]
  },
  {
   "cell_type": "code",
   "execution_count": null,
   "metadata": {},
   "outputs": [],
   "source": []
  }
 ],
 "metadata": {
  "kernelspec": {
   "display_name": "Python 3",
   "language": "python",
   "name": "python3"
  },
  "language_info": {
   "codemirror_mode": {
    "name": "ipython",
    "version": 3
   },
   "file_extension": ".py",
   "mimetype": "text/x-python",
   "name": "python",
   "nbconvert_exporter": "python",
   "pygments_lexer": "ipython3",
   "version": "3.8.5"
  }
 },
 "nbformat": 4,
 "nbformat_minor": 4
}
