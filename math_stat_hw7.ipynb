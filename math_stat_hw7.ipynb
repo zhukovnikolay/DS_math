{
 "cells": [
  {
   "cell_type": "markdown",
   "metadata": {},
   "source": [
    "## Homework 7\n",
    "### Многомерный статистический анализ. Линейная регрессия"
   ]
  },
  {
   "cell_type": "markdown",
   "metadata": {},
   "source": [
    "**1. Даны значения величины заработной платы заемщиков банка (zp) и значения их поведенческого кредитного скоринга (ks): zp = [35, 45, 190, 200, 40, 70, 54, 150, 120, 110], ks = [401, 574, 874, 919, 459, 739, 653, 902, 746, 832]. Используя математические операции, посчитать коэффициенты линейной регрессии, приняв за X заработную плату (то есть, zp - признак), а за y - значения скорингового балла (то есть, ks - целевая переменная). Произвести расчет как с использованием intercept, так и без.**"
   ]
  },
  {
   "cell_type": "markdown",
   "metadata": {},
   "source": [
    "При intercept = 0:\n",
    "$$y = \\beta_1\\cdot x$$"
   ]
  },
  {
   "cell_type": "code",
   "execution_count": 34,
   "metadata": {},
   "outputs": [
    {
     "data": {
      "text/plain": [
       "array([[5.88982042]])"
      ]
     },
     "execution_count": 34,
     "metadata": {},
     "output_type": "execute_result"
    }
   ],
   "source": [
    "# Решим матричным способом\n",
    "import seaborn as sns\n",
    "import numpy as np\n",
    "zp = np.array([35, 45, 190, 200, 40, 70, 54, 150, 120, 110]).reshape((10,1))\n",
    "ks = np.array([401, 574, 874, 919, 459, 739, 653, 902, 746, 832]).reshape((10,1))\n",
    "B = np.dot(np.linalg.inv(np.dot(zp.T, zp)),zp.T@ks)\n",
    "B"
   ]
  },
  {
   "cell_type": "markdown",
   "metadata": {},
   "source": [
    "Модель:\n",
    "$$\\hat{y} = 5.8898x$$"
   ]
  },
  {
   "cell_type": "code",
   "execution_count": 35,
   "metadata": {},
   "outputs": [
    {
     "data": {
      "image/png": "[encoded data removed]",
      "text/plain": [
       "<Figure size 432x288 with 1 Axes>"
      ]
     },
     "metadata": {
      "needs_background": "light"
     },
     "output_type": "display_data"
    }
   ],
   "source": [
    "%matplotlib inline\n",
    "import matplotlib.pyplot as plt\n",
    "plt.scatter(zp, ks)\n",
    "plt.plot(zp,5.8898*zp)\n",
    "plt.show()"
   ]
  },
  {
   "cell_type": "markdown",
   "metadata": {},
   "source": [
    "_____\n",
    "При intercept не равном 0:\n",
    "$$y = \\beta_0 + \\beta_1\\cdot x$$"
   ]
  },
  {
   "cell_type": "code",
   "execution_count": 45,
   "metadata": {},
   "outputs": [
    {
     "name": "stdout",
     "output_type": "stream",
     "text": [
      "Коэффициент a = 444.1773573243596, b = 2.620538882402765\n"
     ]
    }
   ],
   "source": [
    "zp = np.array([35, 45, 190, 200, 40, 70, 54, 150, 120, 110])\n",
    "ks = np.array([401, 574, 874, 919, 459, 739, 653, 902, 746, 832])\n",
    "b = ((np.mean(zp*ks)-ks.mean()*zp.mean())) / (np.mean(zp**2) - zp.mean()**2)\n",
    "a = ks.mean() - b * zp.mean()\n",
    "print(f'Коэффициент a = {a}, b = {b}')"
   ]
  },
  {
   "cell_type": "code",
   "execution_count": 46,
   "metadata": {},
   "outputs": [
    {
     "data": {
      "text/plain": [
       "array([[444.17735732],\n",
       "       [  2.62053888]])"
      ]
     },
     "execution_count": 46,
     "metadata": {},
     "output_type": "execute_result"
    }
   ],
   "source": [
    "# Решим матричным способом\n",
    "X = zp.reshape((10,1))\n",
    "X = np.hstack([np.ones((10,1)), X])\n",
    "y = ks.reshape((10,1))\n",
    "B = np.dot(np.linalg.inv(np.dot(X.T, X)),X.T@y)\n",
    "B"
   ]
  },
  {
   "cell_type": "markdown",
   "metadata": {},
   "source": [
    "Модель:\n",
    "$$\\hat{y} = 444.177 + 2.62x$$"
   ]
  },
  {
   "cell_type": "code",
   "execution_count": 48,
   "metadata": {},
   "outputs": [
    {
     "data": {
      "image/png": "[encoded data removed]",
      "text/plain": [
       "<Figure size 432x288 with 1 Axes>"
      ]
     },
     "metadata": {
      "needs_background": "light"
     },
     "output_type": "display_data"
    }
   ],
   "source": [
    "plt.scatter(zp, ks)\n",
    "plt.plot(zp, 444.177 + 2.62 * zp)\n",
    "plt.show()"
   ]
  },
  {
   "cell_type": "markdown",
   "metadata": {},
   "source": [
    "**2. Посчитать коэффициент линейной регрессии при заработной плате (zp), используя градиентный спуск (без intercept).**"
   ]
  },
  {
   "cell_type": "code",
   "execution_count": 49,
   "metadata": {},
   "outputs": [],
   "source": [
    "zp = np.array([35, 45, 190, 200, 40, 70, 54, 150, 120, 110])\n",
    "ks = np.array([401, 574, 874, 919, 459, 739, 653, 902, 746, 832])\n",
    "alpha = 1e-6"
   ]
  },
  {
   "cell_type": "code",
   "execution_count": 50,
   "metadata": {},
   "outputs": [],
   "source": [
    "def mse_(B1, y=ks, X=zp,n=10):\n",
    "    return np.sum((B1*X-y)**2)/n"
   ]
  },
  {
   "cell_type": "code",
   "execution_count": 52,
   "metadata": {},
   "outputs": [
    {
     "name": "stdout",
     "output_type": "stream",
     "text": [
      "Iteration: 0, B1=0.25952808, mse=493237.7212546963\n",
      "Iteration: 300, B1=5.888531320728348, mse=56516.88130936019\n",
      "Iteration: 600, B1=5.889820124983314, mse=56516.85841572062\n",
      "Iteration: 900, B1=5.889820420065112, mse=56516.85841571941\n",
      "Iteration: 1200, B1=5.889820420132673, mse=56516.85841571943\n",
      "Iteration: 1500, B1=5.889820420132673, mse=56516.85841571943\n",
      "Iteration: 1800, B1=5.889820420132673, mse=56516.85841571943\n",
      "Iteration: 2100, B1=5.889820420132673, mse=56516.85841571943\n",
      "Iteration: 2400, B1=5.889820420132673, mse=56516.85841571943\n",
      "Iteration: 2700, B1=5.889820420132673, mse=56516.85841571943\n"
     ]
    }
   ],
   "source": [
    "B1 = 0.1\n",
    "n = 10\n",
    "for i in range(3000):\n",
    "    B1 -= alpha*(2/n)*np.sum((B1*zp-ks)*zp)\n",
    "    if i%300 ==0:\n",
    "        print(f'Iteration: {i}, B1={B1}, mse={mse_(B1)}')"
   ]
  },
  {
   "cell_type": "markdown",
   "metadata": {},
   "source": [
    "**3. Произвести вычисления как в пункте 2, но с вычислением intercept. Учесть, что изменение коэффициентов должно производиться\n",
    "на каждом шаге одновременно (то есть изменение одного коэффициента не должно влиять на изменение другого во время одной итерации).**"
   ]
  },
  {
   "cell_type": "code",
   "execution_count": 53,
   "metadata": {},
   "outputs": [],
   "source": [
    "def mse_2(B0, B1, y=ks, X=zp, n=10):\n",
    "    return np.sum((B0 + B1 * X - y) ** 2) / n"
   ]
  },
  {
   "cell_type": "code",
   "execution_count": 68,
   "metadata": {},
   "outputs": [],
   "source": [
    "alpha = 1e-5"
   ]
  },
  {
   "cell_type": "code",
   "execution_count": 70,
   "metadata": {},
   "outputs": [
    {
     "name": "stdout",
     "output_type": "stream",
     "text": [
      "Iteration: 0, B0=0.1139932, B1=1.6950780000000003, mse=298805.38996099564\n",
      "Iteration: 300000, B0=347.24756959921285, B1=3.333984975180734, mse=8853.693377127487\n",
      "Iteration: 600000, B0=423.0181317603773, B1=2.77628013758468, mse=6583.983235150707\n",
      "Iteration: 900000, B0=439.55841781180436, B1=2.6545363193656377, mse=6475.8260411356305\n",
      "Iteration: 1200000, B0=443.1690688992334, B1=2.6279603310016144, mse=6470.672088478478\n",
      "Iteration: 1500000, B0=443.95725365219454, B1=2.6221589427433236, mse=6470.4264901321585\n",
      "Iteration: 1800000, B0=444.12930993504966, B1=2.6208925324310575, mse=6470.4147867752\n",
      "Iteration: 2100000, B0=444.1668688504738, B1=2.6206160822077855, mse=6470.414229081847\n",
      "Iteration: 2400000, B0=444.17506774970946, B1=2.6205557346844697, mse=6470.414202506412\n",
      "Iteration: 2700000, B0=444.17685752314003, B1=2.620542561160716, mse=6470.414201240024\n"
     ]
    }
   ],
   "source": [
    "B0 = 0.1\n",
    "B1 = 0.1\n",
    "n = 10\n",
    "for i in range(3000000):\n",
    "    y_pred = B0 + B1 * zp\n",
    "    B0 -= alpha*(2/n)*np.sum(y_pred - ks)\n",
    "    B1 -= alpha*(2/n)*np.sum((y_pred - ks) * zp)\n",
    "    if i%300000 ==0:\n",
    "        print(f'Iteration: {i}, B0={B0}, B1={B1}, mse={mse_2(B0, B1)}')"
   ]
  },
  {
   "cell_type": "code",
   "execution_count": null,
   "metadata": {},
   "outputs": [],
   "source": []
  }
 ],
 "metadata": {
  "kernelspec": {
   "display_name": "Python 3",
   "language": "python",
   "name": "python3"
  },
  "language_info": {
   "codemirror_mode": {
    "name": "ipython",
    "version": 3
   },
   "file_extension": ".py",
   "mimetype": "text/x-python",
   "name": "python",
   "nbconvert_exporter": "python",
   "pygments_lexer": "ipython3",
   "version": "3.8.5"
  }
 },
 "nbformat": 4,
 "nbformat_minor": 4
}
