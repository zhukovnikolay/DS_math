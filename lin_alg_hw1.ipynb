{
 "cells": [
  {
   "cell_type": "markdown",
   "metadata": {},
   "source": [
    "## Homework 1\n",
    "### Линейное пространство. Основные понятия."
   ]
  },
  {
   "cell_type": "markdown",
   "metadata": {},
   "source": [
    "**1. Исследовать на линейную зависимость:\n",
    "$$f_{1}(x)=e^{x}, f_{2}(x)=1, f_{3}(x)=x+1, f_{4}(x)=x-e^{x}.$$**"
   ]
  },
  {
   "cell_type": "markdown",
   "metadata": {},
   "source": [
    "Вектор $f_4(x) = -f_1(x) - f_2(x) + f_3(x)$ - линейная комбинация векторов $f_1(x), f_2(x), f_3(x)$, таким образом исследуемые векторы линейно зависимы."
   ]
  },
  {
   "cell_type": "markdown",
   "metadata": {},
   "source": [
    "**2. Исследовать на линейную зависимость:**\n",
    "$$f_{1}(x)=2, f_{2}(x)=x, f_{3}(x)=x^{2}, f_{4}(x)=(x+1)^{2}$$"
   ]
  },
  {
   "cell_type": "markdown",
   "metadata": {},
   "source": [
    "Вектор $f_4(x) = f_3(x) + 2\\cdot f_2(x) + 0.5\\cdot f_1(x)$ - линейная комбинация векторов $f_1(x), f_2(x), f_3(x)$, таким образом исследуемые векторы линейно зависимы."
   ]
  },
  {
   "cell_type": "markdown",
   "metadata": {},
   "source": [
    "**3. Найти координаты вектора $x = (2, 3, 5)\\in \\mathbb{R}^{3}$ в базисе $b_{1}=(0, 0, 10)$, $b_{2}=(2, 0, 0)$, $b_{3}=(0, 1, 0)$.**"
   ]
  },
  {
   "cell_type": "markdown",
   "metadata": {},
   "source": [
    "$$x = (2,3,5) = (2,0,0) + (0,3,0) + (0,0,5) = b_2 + 3b_3 + 0.5b_1$$"
   ]
  },
  {
   "cell_type": "markdown",
   "metadata": {},
   "source": [
    "Таким образом, координаты вектора x в базисе $b_{1}=(0, 0, 10)$, $b_{2}=(2, 0, 0)$, $b_{3}=(0, 1, 0)$ будут являться (0.5, 1, 3)."
   ]
  },
  {
   "cell_type": "markdown",
   "metadata": {},
   "source": [
    "**4. Найти координаты вектора $3x^{2}-2x+2\\in\\mathbb{R}^{3}[x]$:**"
   ]
  },
  {
   "cell_type": "markdown",
   "metadata": {},
   "source": [
    "**а) в базисе $1$, $x$, $x^{2}$;**"
   ]
  },
  {
   "cell_type": "markdown",
   "metadata": {},
   "source": [
    "Координатами вектора $3x^{2}-2x+2$ в базисе $1$, $x$, $x^{2}$ будут являться (2, -2, 3)."
   ]
  },
  {
   "cell_type": "markdown",
   "metadata": {},
   "source": [
    "**б) в базисе $x^{2}$, $x-1$, $1$.**"
   ]
  },
  {
   "cell_type": "markdown",
   "metadata": {},
   "source": [
    "Вектор $3x^{2}-2x+2 = 3\\cdot x^2 -2\\cdot(x - 1) + 0 \\cdot 1$."
   ]
  },
  {
   "cell_type": "markdown",
   "metadata": {},
   "source": [
    "Координатами вектора $3x^{2}-2x+2$ в базисе $x^2$, $x-1$, $1$ будут являться (3, -2, 0)."
   ]
  },
  {
   "cell_type": "markdown",
   "metadata": {},
   "source": [
    "**5. Установить, является ли линейным подпространством:**"
   ]
  },
  {
   "cell_type": "markdown",
   "metadata": {},
   "source": [
    "**а) совокупность всех векторов трехмерного пространства, у которых по крайней мере одна из первых двух координат равна нулю;**"
   ]
  },
  {
   "cell_type": "markdown",
   "metadata": {},
   "source": [
    "Нам необходимо проверить выполнение двух условий для векторов вида (0, b, c), (a, 0, c), (0, 0, c):"
   ]
  },
  {
   "cell_type": "markdown",
   "metadata": {},
   "source": [
    "$$1)\\ u+v\\in L;$$"
   ]
  },
  {
   "cell_type": "markdown",
   "metadata": {},
   "source": [
    "$$2)\\ \\alpha\\cdot u \\in L.$$"
   ]
  },
  {
   "cell_type": "markdown",
   "metadata": {},
   "source": [
    "Для первых двух векторов проверка будет идентична:"
   ]
  },
  {
   "cell_type": "markdown",
   "metadata": {},
   "source": [
    "$$(0, b, c)+(0, e, f) = (0, b+e, c+f)$$ "
   ]
  },
  {
   "cell_type": "markdown",
   "metadata": {},
   "source": [
    "$$\\alpha\\cdot (0, b, c) = (0, \\alpha b, \\alpha c).$$"
   ]
  },
  {
   "cell_type": "markdown",
   "metadata": {},
   "source": [
    "Для векторов вида (0, 0, c):"
   ]
  },
  {
   "cell_type": "markdown",
   "metadata": {},
   "source": [
    "$$(0, 0, c)+(0, 0, f) = (0, 0, c+f)$$ "
   ]
  },
  {
   "cell_type": "markdown",
   "metadata": {},
   "source": [
    "$$\\alpha\\cdot (0, 0, c) = (0, 0, \\alpha c).$$"
   ]
  },
  {
   "cell_type": "markdown",
   "metadata": {},
   "source": [
    "Таким образом, условия выполняются для векторов всех видов. Совокупность всех векторов трехмерного пространства, у которых по крайней мере одна из первых двух координат равна нулю, будет являться линейным подпространством."
   ]
  },
  {
   "cell_type": "markdown",
   "metadata": {},
   "source": [
    "**б) все векторы, являющиеся линейными комбинациями данных векторов $\\{u_{1}, u_{2}, \\ldots, u_{n}\\}$**"
   ]
  },
  {
   "cell_type": "markdown",
   "metadata": {},
   "source": [
    "Рассмотрим два вектора из исследуемого подпространства:"
   ]
  },
  {
   "cell_type": "markdown",
   "metadata": {},
   "source": [
    "$$u = \\lambda_1\\cdot u_1 + \\lambda_2\\cdot u_2 + ... +\\lambda_ n\\cdot u_n$$"
   ]
  },
  {
   "cell_type": "markdown",
   "metadata": {},
   "source": [
    "$$v = \\mu_1\\cdot u_1 + \\mu_2\\cdot u_2 + ... +\\mu_n\\cdot u_n$$"
   ]
  },
  {
   "cell_type": "markdown",
   "metadata": {},
   "source": [
    "Проверим выполнение условий:"
   ]
  },
  {
   "cell_type": "markdown",
   "metadata": {},
   "source": [
    "$$u + v = \\lambda_1\\cdot u_1 + \\lambda_2\\cdot u_2 + ... +\\lambda_ n\\cdot u_n + \\mu_1\\cdot u_1 + \\mu_2\\cdot u_2 + ... +\\mu_n\\cdot u_n = (\\lambda_1 + \\mu_1)\\cdot u_1 + (\\lambda_2 + \\mu_2)\\cdot u_2 + ... +(\\lambda_n + \\mu_n)\\cdot u_n$$"
   ]
  },
  {
   "cell_type": "markdown",
   "metadata": {},
   "source": [
    "$$\\alpha\\cdot u = \\alpha\\cdot\\lambda_1\\cdot u_1 + \\alpha\\cdot\\lambda_2\\cdot u_2 + ... +\\alpha\\cdot\\lambda_ n\\cdot u_n$$"
   ]
  },
  {
   "cell_type": "markdown",
   "metadata": {},
   "source": [
    "Полученные векторы также принадлежат указанному в задании множеству всех векторов, являющихся линейными комбинациями векторов $\\{u_{1}, u_{2}, \\ldots, u_{n}\\}$, таким образом исследуемое множество будет являться линейным подпространством."
   ]
  },
  {
   "cell_type": "markdown",
   "metadata": {},
   "source": [
    "**6. Найти скалярное произведение векторов $x, y \\in \\mathbb{R}$:**"
   ]
  },
  {
   "cell_type": "markdown",
   "metadata": {},
   "source": [
    "**а) $x=(0,-3, 6),~y=(-4, 7, 9);$**"
   ]
  },
  {
   "cell_type": "markdown",
   "metadata": {},
   "source": [
    "$$(x,y) = 0\\cdot-4 + (-3)\\cdot7 + 6\\cdot9 = 33$$"
   ]
  },
  {
   "cell_type": "code",
   "execution_count": 2,
   "metadata": {},
   "outputs": [
    {
     "name": "stdout",
     "output_type": "stream",
     "text": [
      "Скалярное произведение x и y:\n",
      "33\n"
     ]
    }
   ],
   "source": [
    "# проверяем\n",
    "import numpy as np\n",
    "x = np.array([0, -3, 6])\n",
    "y = np.array([-4, 7, 9])\n",
    "print(f'Скалярное произведение x и y:\\n{np.dot(x, y)}')"
   ]
  },
  {
   "cell_type": "markdown",
   "metadata": {},
   "source": [
    "**б) $x=(7, -4, 0, 1),~y=(-3, 1, 11, 2).$**"
   ]
  },
  {
   "cell_type": "markdown",
   "metadata": {},
   "source": [
    "$$(x,y) = 7\\cdot-3 + (-4)\\cdot1 + 0\\cdot11 + 1\\cdot2 = -23$$"
   ]
  },
  {
   "cell_type": "code",
   "execution_count": 3,
   "metadata": {},
   "outputs": [
    {
     "name": "stdout",
     "output_type": "stream",
     "text": [
      "Скалярное произведение x и y:\n",
      "-23\n"
     ]
    }
   ],
   "source": [
    "# проверяем\n",
    "x = np.array([7, -4, 0, 1])\n",
    "y = np.array([-3, 1, 11, 2])\n",
    "print(f'Скалярное произведение x и y:\\n{np.dot(x, y)}')"
   ]
  },
  {
   "cell_type": "markdown",
   "metadata": {},
   "source": [
    "**7. Найти нормы векторов $(4, 2, 4)$ и $(12, 3, 4)$ и угол между ними.**"
   ]
  },
  {
   "cell_type": "markdown",
   "metadata": {},
   "source": [
    "Первый вектор обозначим x, второй - y. Манхэттенская норма:"
   ]
  },
  {
   "cell_type": "markdown",
   "metadata": {},
   "source": [
    "$$\\left\\|x\\right\\|_{1} = \\sum_{i}|x_{i}| = |4| + |2| + |4| = 10$$"
   ]
  },
  {
   "cell_type": "markdown",
   "metadata": {},
   "source": [
    "$$\\left\\|y\\right\\|_{1} = \\sum_{i}|y_{i}| = |12| + |3| + |4| = 19$$"
   ]
  },
  {
   "cell_type": "markdown",
   "metadata": {},
   "source": [
    "Евклидова норма:"
   ]
  },
  {
   "cell_type": "markdown",
   "metadata": {},
   "source": [
    "$$\\left\\|x\\right\\|_{2} = \\sqrt{\\sum_{i}|x_{i}|^{2}} = \\sqrt{16 + 4 + 16} = 6$$"
   ]
  },
  {
   "cell_type": "markdown",
   "metadata": {},
   "source": [
    "$$\\left\\|y\\right\\|_{2} = \\sqrt{\\sum_{i}|y_{i}|^{2}} = \\sqrt{144 + 9 + 16} = 13$$"
   ]
  },
  {
   "cell_type": "code",
   "execution_count": 4,
   "metadata": {},
   "outputs": [
    {
     "name": "stdout",
     "output_type": "stream",
     "text": [
      "l1 Манхэттенская норма вектора x:\n",
      "10.0\n",
      "l1 Манхэттенская норма вектора y:\n",
      "19.0\n",
      "l2 Евклидова норма вектора x:\n",
      "6.0\n",
      "l2 Евклидова норма вектора y:\n",
      "13.0\n"
     ]
    }
   ],
   "source": [
    "# проверяем\n",
    "x = np.array([4, 2, 4])\n",
    "y = np.array([12, 3, 4])\n",
    "print(f'l1 Манхэттенская норма вектора x:\\n{np.linalg.norm(x, ord=1)}')\n",
    "print(f'l1 Манхэттенская норма вектора y:\\n{np.linalg.norm(y, ord=1)}')\n",
    "print(f'l2 Евклидова норма вектора x:\\n{np.linalg.norm(x, ord=2)}')\n",
    "print(f'l2 Евклидова норма вектора y:\\n{np.linalg.norm(y, ord=2)}')"
   ]
  },
  {
   "cell_type": "markdown",
   "metadata": {},
   "source": [
    "Найдем угол между векторами:\n",
    "$$cos\\varphi = \\frac{(x,y)}{\\left \\|x\\right \\|\\cdot\\left \\|y\\right \\|} = \\frac{4\\cdot12 +2\\cdot3+4\\cdot4}{6\\cdot13} = \\frac{70}{78}$$"
   ]
  },
  {
   "cell_type": "markdown",
   "metadata": {},
   "source": [
    "Откуда:\n",
    "$$\\varphi = \\arccos\\frac{70}{78}$$"
   ]
  },
  {
   "cell_type": "code",
   "execution_count": 5,
   "metadata": {},
   "outputs": [
    {
     "name": "stdout",
     "output_type": "stream",
     "text": [
      "Косинус угла:\n",
      "0.8974358974358974\n",
      "Угол:\n",
      "0.4568740035326613\n"
     ]
    }
   ],
   "source": [
    "cos_phi = np.dot(x, y) / np.linalg.norm(x) / np.linalg.norm(y)\n",
    "print(f'Косинус угла:\\n{cos_phi}')\n",
    "print(f'Угол:\\n{np.arccos(cos_phi)}')"
   ]
  },
  {
   "cell_type": "markdown",
   "metadata": {},
   "source": [
    "**8. Будет ли линейное пространство евклидовым, если за скалярное произведение принять:**"
   ]
  },
  {
   "cell_type": "markdown",
   "metadata": {},
   "source": [
    "**а) произведение длин векторов;**"
   ]
  },
  {
   "cell_type": "markdown",
   "metadata": {},
   "source": [
    "Проверим выполнение аксиом:"
   ]
  },
  {
   "cell_type": "markdown",
   "metadata": {},
   "source": [
    "1) $(x,y)=(y,x);$\n",
    "\n",
    "Из условия: $(x,y) = |x|\\cdot|y| = |y|\\cdot|x| = (y, x)$ (по закону коммутативности) => первая аксиома выполняется."
   ]
  },
  {
   "cell_type": "markdown",
   "metadata": {},
   "source": [
    "2) $(\\lambda x, y)=\\lambda(x, y);$<br>\n",
    "\n",
    "$(\\lambda x, y) = |\\lambda x|\\cdot|y| = \\lambda\\cdot|x|\\cdot|y| = \\lambda(x, y)$ => вторая аксиома выполняется"
   ]
  },
  {
   "cell_type": "markdown",
   "metadata": {},
   "source": [
    "3) $(x_{1}+x_{2},y)=(x_{1},y)+(x_{2},y);$\n",
    "\n",
    "$(x_1 + x_2, y) = |x_1 + x_2|\\cdot|y| = |x_1||y| + |x_2||y| = (x_{1},y)+(x_{2},y)$ (закон дистрибутивности) => третья аксиома выполняется"
   ]
  },
  {
   "cell_type": "markdown",
   "metadata": {},
   "source": [
    "4) $(x, x)\\geq0$, причем $(x,x)=0\\Leftrightarrow x=0.$\n",
    "\n",
    "$(x, x) = |x|\\cdot|x|\\geq 0$, длина вектора неотрицательна => четвертая аксиома выполняется."
   ]
  },
  {
   "cell_type": "markdown",
   "metadata": {},
   "source": [
    "Линейное пространство будет являться евклидовым."
   ]
  },
  {
   "cell_type": "markdown",
   "metadata": {},
   "source": [
    "**б) утроенное обычное скалярное произведение векторов?**"
   ]
  },
  {
   "cell_type": "markdown",
   "metadata": {},
   "source": [
    "Проверим выполнение аксиом для векторов $x = (a_1, a_2, ..., a_n)$, $y = (b_1, b_2, ..., b_n)$:"
   ]
  },
  {
   "cell_type": "markdown",
   "metadata": {},
   "source": [
    "1) $(x,y)=(y,x);$\n",
    "\n",
    "Из условия: $(x,y) = 3(x,y) = 3\\cdot(a_1\\cdot b_1 + a_2\\cdot b_2 + ... + a_n\\cdot b_n) = 3(y,x) = (y, x)$ (по закону коммутативности) => первая аксиома выполняется."
   ]
  },
  {
   "cell_type": "markdown",
   "metadata": {},
   "source": [
    "2) $(\\lambda x, y)=\\lambda(x, y);$<br>\n",
    "\n",
    "$(\\lambda x, y) = 3\\cdot(\\lambda\\cdot a_1 \\cdot b_1 + \\lambda\\cdot a_2 \\cdot b_2 + ... + \\lambda\\cdot a_n \\cdot b_n  ) = 3\\cdot\\lambda\\cdot(a_1 \\cdot b_1 + a_2 \\cdot b_2 + ... + a_n \\cdot b_n ) = \\lambda(x, y)$ => вторая аксиома выполняется"
   ]
  },
  {
   "cell_type": "markdown",
   "metadata": {},
   "source": [
    "3) $(x_{1}+x_{2},y)=(x_{1},y)+(x_{2},y);$\n",
    "\n",
    "Проверим выполнение аксиом для векторов $x_1 = (a_1, a_2, ..., a_n)$, $x_2 = (b_1, b_2, ..., b_n), $y = (c_1, c_2, ..., c_n)$\n",
    "\n",
    "$(x_1 + x_2, y) = 3\\cdot((a_1 + b_1)\\cdot c_1 + (a_2 + b_2)\\cdot c_2 + ... + (a_n + b_n)\\cdot c_n) = 3\\cdot(a_1\\cdot c_1 + a_2\\cdot c_2 + ... + a_n\\cdot c_n) + 3\\cdot(b_1\\cdot c_1 + b_2\\cdot c_2 + ... + b_n\\cdot c_n) = (x_{1},y)+(x_{2},y)$ => третья аксиома выполняется"
   ]
  },
  {
   "cell_type": "markdown",
   "metadata": {},
   "source": [
    "4) $(x, x)\\geq0$, причем $(x,x)=0\\Leftrightarrow x=0.$\n",
    "\n",
    "$(x, x) = a_1^2 + a_2^2 +... + a_n^2\\geq 0$, длина вектора неотрицательна => четвертая аксиома выполняется."
   ]
  },
  {
   "cell_type": "markdown",
   "metadata": {},
   "source": [
    "Линейное пространство будет являться евклидовым."
   ]
  },
  {
   "cell_type": "markdown",
   "metadata": {},
   "source": [
    "**9. Какие из нижеперечисленных векторов образуют ортонормированный базис в линейном пространстве $\\mathbb{R}^{3}$:**"
   ]
  },
  {
   "cell_type": "markdown",
   "metadata": {},
   "source": [
    "**а) $(1,0,0),(0,0,1);$**"
   ]
  },
  {
   "cell_type": "markdown",
   "metadata": {},
   "source": [
    "Для линейного пространства $\\mathbb{R}^{3}$ количество векторов в базисе должно быть равно 3, таким образом совокупность двух векторов из условия не образует базис. Если для базиса один из векторов использовать дважды, то не будет выполнено условие $(e_i, e_j) = 0$, т.к. скалярное произведение двух единичных векторов из условия = 1."
   ]
  },
  {
   "cell_type": "markdown",
   "metadata": {},
   "source": [
    "**б) $(1/\\sqrt{2},-1/\\sqrt{2},0),(1/\\sqrt{2},1/\\sqrt{2},0), (0,0,1);$**"
   ]
  },
  {
   "cell_type": "markdown",
   "metadata": {},
   "source": [
    "Обозначим за $e_1 = (1/\\sqrt{2},-1/\\sqrt{2},0), e_2 = (1/\\sqrt{2},1/\\sqrt{2},0), e_3 = (0,0,1)$. Проверим выполнение условий $(e_{i}, e_{j})=0$ $\\forall$ $i\\neq j$ и $(e_{i},e_{i})=1$ $\\forall$ $i\\in[1, n].$"
   ]
  },
  {
   "cell_type": "markdown",
   "metadata": {},
   "source": [
    "$$(e_1, e_1) = (1/\\sqrt{2})^2 + (-1/\\sqrt{2})^2 + 0^2 = 1$$"
   ]
  },
  {
   "cell_type": "markdown",
   "metadata": {},
   "source": [
    "$$(e_2, e_2) = (1/\\sqrt{2})^2 + (1/\\sqrt{2})^2 + 0^2 = 1$$"
   ]
  },
  {
   "cell_type": "markdown",
   "metadata": {},
   "source": [
    "$$(e_3, e_3) = (0)^2 + (0)^2 + 1^2 = 1$$"
   ]
  },
  {
   "cell_type": "markdown",
   "metadata": {},
   "source": [
    "$$(e_1, e_2) = (1/\\sqrt{2})^2 + (-1/\\sqrt{2})\\cdot(1/\\sqrt{2}) + 0^2 = 0$$"
   ]
  },
  {
   "cell_type": "markdown",
   "metadata": {},
   "source": [
    "$$(e_1, e_3) = (1/\\sqrt{2})\\cdot0 + (-1/\\sqrt{2})\\cdot0 + 0\\cdot1 = 0$$"
   ]
  },
  {
   "cell_type": "markdown",
   "metadata": {},
   "source": [
    "$$(e_2, e_3) = (1/\\sqrt{2})\\cdot0 + (1/\\sqrt{2})\\cdot0 + 0\\cdot1 = 0$$"
   ]
  },
  {
   "cell_type": "markdown",
   "metadata": {},
   "source": [
    "Все условия выполняются => базис является ортонормированным."
   ]
  },
  {
   "cell_type": "code",
   "execution_count": 9,
   "metadata": {},
   "outputs": [],
   "source": [
    "def check_bas(e1, e2, e3):\n",
    "    print(f'(e1, e1) = {round(np.dot(e1, e1), 3)}')\n",
    "    print(f'(e2, e2) = {round(np.dot(e2, e2), 3)}')\n",
    "    print(f'(e3, e3) = {round(np.dot(e3, e3), 3)}')\n",
    "    print(f'(e1, e2) = {round(np.dot(e1, e2), 3)}')\n",
    "    print(f'(e1, e3) = {round(np.dot(e1, e3), 3)}')\n",
    "    print(f'(e2, e3) = {round(np.dot(e2, e3), 3)}')"
   ]
  },
  {
   "cell_type": "code",
   "execution_count": 10,
   "metadata": {},
   "outputs": [
    {
     "name": "stdout",
     "output_type": "stream",
     "text": [
      "(e1, e1) = 1.0\n",
      "(e2, e2) = 1.0\n",
      "(e3, e3) = 1\n",
      "(e1, e2) = 0.0\n",
      "(e1, e3) = 0.0\n",
      "(e2, e3) = 0.0\n"
     ]
    }
   ],
   "source": [
    "# проверяем\n",
    "e1 = np.array([1/np.sqrt(2), -1/np.sqrt(2), 0])\n",
    "e2 = np.array([1/np.sqrt(2), 1/np.sqrt(2), 0])\n",
    "e3 = np.array([0, 0, 1])\n",
    "check_bas(e1, e2, e3)"
   ]
  },
  {
   "cell_type": "markdown",
   "metadata": {},
   "source": [
    "**в) $(1/2, -1/2, 0), (0, 1/2, 1/2), (0,0,1);$**\n"
   ]
  },
  {
   "cell_type": "markdown",
   "metadata": {},
   "source": [
    "Обозначим за $e_1 = (1/2,-1/2,0), e_2 = (0,1/2,1/2), e_3 = (0,0,1)$."
   ]
  },
  {
   "cell_type": "markdown",
   "metadata": {},
   "source": [
    "$$(e_1, e_1) = \\left(\\frac{1}{2}\\right)^2 + \\left(-\\frac{1}{2}\\right)^2 + 0^2 = \\frac{1}{2}$$"
   ]
  },
  {
   "cell_type": "markdown",
   "metadata": {},
   "source": [
    "Условие не выполняется => базис не является ортонормированным."
   ]
  },
  {
   "cell_type": "code",
   "execution_count": 13,
   "metadata": {},
   "outputs": [
    {
     "name": "stdout",
     "output_type": "stream",
     "text": [
      "(e1, e1) = 0.5\n",
      "(e2, e2) = 0.5\n",
      "(e3, e3) = 1\n",
      "(e1, e2) = -0.25\n",
      "(e1, e3) = 0.0\n",
      "(e2, e3) = 0.5\n"
     ]
    }
   ],
   "source": [
    "# проверяем\n",
    "e1 = np.array([1/2, -1/2, 0])\n",
    "e2 = np.array([0, 1/2, 1/2])\n",
    "e3 = np.array([0, 0, 1])\n",
    "check_bas(e1, e2, e3)"
   ]
  },
  {
   "cell_type": "markdown",
   "metadata": {},
   "source": [
    "**г) $(1,0,0),(0,1,0),(0,0,1)$**"
   ]
  },
  {
   "cell_type": "markdown",
   "metadata": {},
   "source": [
    "Данный базис является стандартным и ортонормированным."
   ]
  },
  {
   "cell_type": "code",
   "execution_count": 14,
   "metadata": {},
   "outputs": [
    {
     "name": "stdout",
     "output_type": "stream",
     "text": [
      "(e1, e1) = 1\n",
      "(e2, e2) = 1\n",
      "(e3, e3) = 1\n",
      "(e1, e2) = 0\n",
      "(e1, e3) = 0\n",
      "(e2, e3) = 0\n"
     ]
    }
   ],
   "source": [
    "# проверяем\n",
    "e1 = np.array([1, 0, 0])\n",
    "e2 = np.array([0, 1, 0])\n",
    "e3 = np.array([0, 0, 1])\n",
    "check_bas(e1, e2, e3)"
   ]
  },
  {
   "cell_type": "code",
   "execution_count": null,
   "metadata": {},
   "outputs": [],
   "source": []
  }
 ],
 "metadata": {
  "kernelspec": {
   "display_name": "Python 3",
   "language": "python",
   "name": "python3"
  },
  "language_info": {
   "codemirror_mode": {
    "name": "ipython",
    "version": 3
   },
   "file_extension": ".py",
   "mimetype": "text/x-python",
   "name": "python",
   "nbconvert_exporter": "python",
   "pygments_lexer": "ipython3",
   "version": "3.8.5"
  }
 },
 "nbformat": 4,
 "nbformat_minor": 4
}
