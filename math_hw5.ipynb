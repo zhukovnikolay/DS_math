{
 "cells": [
  {
   "cell_type": "markdown",
   "metadata": {},
   "source": [
    "## Homework 5\n",
    "### Тема “Понятие о производной”\n",
    "#### 1. Найти производную выражения"
   ]
  },
  {
   "cell_type": "markdown",
   "metadata": {},
   "source": [
    "$$\\left(\\sqrt{\\sin^2{ln(x^3)}}\\right)' = \\frac{1}{2\\sqrt{\\sin^2{ln(x^3)}}}\\cdot\\left(\\sin^2{ln(x^3)}\\right)' = \\frac{2\\sin{ln(x^3)}}{2\\sqrt{\\sin^2{ln(x^3)}}}\\cdot\\left(\\sin{ln(x^3)}\\right)' = $$"
   ]
  },
  {
   "cell_type": "markdown",
   "metadata": {},
   "source": [
    "$$ = \\frac{\\sin{ln(x^3)}\\cdot\\cos{ln(x^3)}\\cdot \\left(ln(x^3)\\right)'}{\\sqrt{\\sin^2{ln(x^3)}}} = \\frac{\\sin{ln(x^3)}\\cdot\\cos{ln(x^3)}\\cdot(x^3)'}{\\sqrt{\\sin^2{ln(x^3)}}\\cdot x^3} = $$"
   ]
  },
  {
   "cell_type": "markdown",
   "metadata": {},
   "source": [
    "$$ = \\frac{\\sin{ln(x^3)}\\cdot\\cos{ln(x^3)}\\cdot3x^2}{\\sqrt{\\sin^2{ln(x^3)}}\\cdot x^3} = \\frac{3\\cdot\\sin{ln(x^3)}\\cdot\\cos{ln(x^3)}}{\\sqrt{\\sin^2{ln(x^3)}}\\cdot x} =$$"
   ]
  },
  {
   "cell_type": "markdown",
   "metadata": {},
   "source": [
    "$$=\\frac{3\\cdot\\sin{ln(x^3)}\\cdot\\cos{ln(x^3)}}{\\sqrt{\\sin^2{ln(x^3)}}\\cdot x}\\cdot\\frac{\\sqrt{\\sin^2{ln(x^3)}}}{\\sqrt{\\sin^2{ln(x^3)}}} = \\frac{3\\cdot\\sqrt{\\sin^2{ln(x^3)}}\\cdot\\sin{ln(x^3)}\\cdot\\cos{ln(x^3)}}{\\sin^2{ln(x^3)}\\cdot x} = \\frac{3\\cdot\\sqrt{\\sin^2{ln(x^3)}}\\cdot ctg(ln(x^3))}{x}$$"
   ]
  },
  {
   "cell_type": "markdown",
   "metadata": {},
   "source": [
    "#### 2. Найти выражение производной функции и ее значение в точке:\n",
    "$$f(x) = cos(x^2 + 3x), x_0 = \\sqrt{\\pi}$$"
   ]
  },
  {
   "cell_type": "markdown",
   "metadata": {},
   "source": [
    "$$f'(x) = -sin(x^2 + 3x)\\cdot(2x + 3)$$"
   ]
  },
  {
   "cell_type": "markdown",
   "metadata": {},
   "source": [
    "$$f'(x_0) = -sin(\\pi + 3\\sqrt{\\pi})\\cdot(2\\sqrt{\\pi} + 3)$$"
   ]
  },
  {
   "cell_type": "markdown",
   "metadata": {},
   "source": [
    "#### 3. * Найти значение производной функции в точке:\n",
    "$$f(x) = \\frac{x^3 - x^2 - x - 1}{1 + 2x + 3x^2 - 4x^3}, x_0 = 0$$"
   ]
  },
  {
   "cell_type": "markdown",
   "metadata": {},
   "source": [
    "Найдем производную с помощью логарифмирования $f'(x) = f(x)\\cdot ln(f(x))'$"
   ]
  },
  {
   "cell_type": "markdown",
   "metadata": {},
   "source": [
    "$$f'(x) = \\frac{x^3 - x^2 - x - 1}{1 + 2x + 3x^2 - 4x^3} \\cdot \\left(\\frac{3x^2 - 2x - 1}{x^3 - x^2 - x - 1} - \\frac{2 + 6x - 12x^2}{1 + 2x + 3x^2 - 4x^3}\\right)$$"
   ]
  },
  {
   "cell_type": "markdown",
   "metadata": {},
   "source": [
    "$$f'(x_0) = \\frac{-1}{1}\\cdot\\left(\\frac{-1}{-1} - \\frac{2}{1}\\right) = 1$$"
   ]
  },
  {
   "cell_type": "markdown",
   "metadata": {},
   "source": [
    "#### 4. Найти угол наклона касательной к графику функции в точке:\n",
    "$$f(x) = \\sqrt{3x}\\cdot ln(x), x_0 = 1$$"
   ]
  },
  {
   "cell_type": "markdown",
   "metadata": {},
   "source": [
    "Производная - тангенс угла наклона касательной к графику функции f(x) в точке x0."
   ]
  },
  {
   "cell_type": "markdown",
   "metadata": {},
   "source": [
    "$$tg \\alpha = f'(x_0)$$"
   ]
  },
  {
   "cell_type": "markdown",
   "metadata": {},
   "source": [
    "$$f'(x) = (\\sqrt{3x})'\\cdot ln(x) + \\sqrt{3x}\\cdot (ln(x))' = \\frac{3\\cdot ln(x)}{2\\cdot \\sqrt{3x}} + \\frac{\\sqrt{3x}}{x}$$"
   ]
  },
  {
   "cell_type": "markdown",
   "metadata": {},
   "source": [
    "$$f'(x_0) = \\frac{3\\cdot ln(1)}{2\\cdot \\sqrt{3}} + \\frac{\\sqrt{3}}{1} = 0 + \\sqrt{3} = \\sqrt{3}$$"
   ]
  },
  {
   "cell_type": "markdown",
   "metadata": {},
   "source": [
    "$$tg \\alpha = \\sqrt{3}, \\alpha = 60^\\circ$$"
   ]
  }
 ],
 "metadata": {
  "kernelspec": {
   "display_name": "Python 3",
   "language": "python",
   "name": "python3"
  },
  "language_info": {
   "codemirror_mode": {
    "name": "ipython",
    "version": 3
   },
   "file_extension": ".py",
   "mimetype": "text/x-python",
   "name": "python",
   "nbconvert_exporter": "python",
   "pygments_lexer": "ipython3",
   "version": "3.8.5"
  }
 },
 "nbformat": 4,
 "nbformat_minor": 4
}
