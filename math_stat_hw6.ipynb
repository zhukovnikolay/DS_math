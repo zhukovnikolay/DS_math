{
 "cells": [
  {
   "cell_type": "markdown",
   "metadata": {},
   "source": [
    "## Homework 6\n",
    "### Взаимосвязь величин. Параметрические и непараметрические показатели корреляции. Корреляционный анализ."
   ]
  },
  {
   "cell_type": "markdown",
   "metadata": {},
   "source": [
    "**1. Даны значения величины заработной платы заемщиков банка (zp) и значения их поведенческого кредитного скоринга (ks):\n",
    "zp = [35, 45, 190, 200, 40, 70, 54, 150, 120, 110],\n",
    "ks = [401, 574, 874, 919, 459, 739, 653, 902, 746, 832].\n",
    "Найдите ковариацию этих двух величин с помощью элементарных действий, а затем с помощью функции cov из numpy\n",
    "Полученные значения должны быть равны.\n",
    "Найдите коэффициент корреляции Пирсона с помощью ковариации и среднеквадратичных отклонений двух признаков,\n",
    "а затем с использованием функций из библиотек numpy и pandas.**"
   ]
  },
  {
   "cell_type": "markdown",
   "metadata": {},
   "source": [
    "Вычислим математическое ожидание и стандартное отклонение (смещенное для корректности расчета коэффициента корреляции) для величин zp и ks, а также матожидание их произведения:\n",
    "$$M(zp) = \\overline{zp} = \\frac{35+45+190+200+40+70+54+150+120+110}{10} = 101.4$$"
   ]
  },
  {
   "cell_type": "markdown",
   "metadata": {},
   "source": [
    "$$M(ks) = \\overline{ks} = \\frac{401+574+874+919+459+739+653+902+746+832}{10} = 709.9$$"
   ]
  },
  {
   "cell_type": "markdown",
   "metadata": {},
   "source": [
    "$$M(zp\\cdot ks) = \\frac{35\\cdot401+45\\cdot574+190\\cdot874+200\\cdot919+40\\cdot459+70\\cdot739+54\\cdot653+150\\cdot902+120\\cdot746+110\\cdot832}{10} = 81141.7$$"
   ]
  },
  {
   "cell_type": "markdown",
   "metadata": {},
   "source": [
    "$$\\sigma_{zp} = \\sqrt{\\frac{\\sum_{i=1}^n(zp_i - \\overline{zp})^2}{n}} \\approx 59.11$$"
   ]
  },
  {
   "cell_type": "markdown",
   "metadata": {},
   "source": [
    "$$\\sigma_{ks} = \\sqrt{\\frac{\\sum_{i=1}^n(ks_i - \\overline{ks})^2}{n}} \\approx 174.55$$"
   ]
  },
  {
   "cell_type": "markdown",
   "metadata": {},
   "source": [
    "Вычислим ковариацию величин zp и ks:\n",
    "$$cov = M(zp\\cdot ks) - M(zp)\\cdot M(ks) = 81141.7 - 101.4\\cdot709.9 = 9157.84$$"
   ]
  },
  {
   "cell_type": "code",
   "execution_count": 24,
   "metadata": {
    "scrolled": true
   },
   "outputs": [
    {
     "data": {
      "text/plain": [
       "9157.84"
      ]
     },
     "execution_count": 24,
     "metadata": {},
     "output_type": "execute_result"
    }
   ],
   "source": [
    "# вычислим ковариацию программно\n",
    "import numpy as np\n",
    "import pandas as pd\n",
    "zp = np.array([35, 45, 190, 200, 40, 70, 54, 150, 120, 110])\n",
    "ks = np.array([401, 574, 874, 919, 459, 739, 653, 902, 746, 832])\n",
    "cov = np.cov(zp, ks, ddof = 0)\n",
    "cov[0,1]"
   ]
  },
  {
   "cell_type": "markdown",
   "metadata": {},
   "source": [
    "Найдем коэффициент корреляции Пирсона:\n",
    "$$r = \\frac{cov}{\\sigma_{zp}\\sigma_{ks}} = \\frac{9157.84}{59.11\\cdot174.55} = 0.8875$$"
   ]
  },
  {
   "cell_type": "code",
   "execution_count": 29,
   "metadata": {},
   "outputs": [
    {
     "data": {
      "text/plain": [
       "0.8874900920739162"
      ]
     },
     "execution_count": 29,
     "metadata": {},
     "output_type": "execute_result"
    }
   ],
   "source": [
    "# найдем коэффициент корреляции программно\n",
    "corr = np.corrcoef(zp, ks)\n",
    "corr[0,1]"
   ]
  },
  {
   "cell_type": "code",
   "execution_count": 39,
   "metadata": {},
   "outputs": [
    {
     "data": {
      "text/plain": [
       "0.8874900920739162"
      ]
     },
     "execution_count": 39,
     "metadata": {},
     "output_type": "execute_result"
    }
   ],
   "source": [
    "seq = pd.Series(zp)\n",
    "seq2 = pd.Series(ks)\n",
    "corr2 = seq.corr(seq2)\n",
    "corr2"
   ]
  },
  {
   "cell_type": "markdown",
   "metadata": {},
   "source": [
    "**2. Измерены значения IQ выборки студентов,\n",
    "обучающихся в местных технических вузах:\n",
    "131, 125, 115, 122, 131, 115, 107, 99, 125, 111.\n",
    "Известно, что в генеральной совокупности IQ распределен нормально.\n",
    "Найдите доверительный интервал для математического ожидания с надежностью 0.95.**"
   ]
  },
  {
   "cell_type": "markdown",
   "metadata": {},
   "source": [
    "Дисперсия неизвестна => применяем t-распределение. Найдем:\n",
    "$$\\overline X = \\frac{131+125+115+122+131+115+107+99+125+111}{10}=118.1$$\n",
    "\n",
    "$$\\sigma = \\sqrt{\\frac{\\sum_{i=1}^n(X_i - \\overline X)^2}{n - 1}} \\approx 10.546$$"
   ]
  },
  {
   "cell_type": "markdown",
   "metadata": {},
   "source": [
    "Найдем табличное значение $t_{\\alpha/2} = 2.262$ при $\\alpha = 0.05$ и числе степеней свободы = 9."
   ]
  },
  {
   "cell_type": "markdown",
   "metadata": {},
   "source": [
    "Найдем доверительный интервал:\n",
    "\n",
    "$$\\overline X \\pm t_{\\alpha/2}\\cdot\\frac{\\sigma}{\\sqrt n} = 118.1 \\pm 2.262 \\cdot \\frac{10.546}{3.162}$$"
   ]
  },
  {
   "cell_type": "markdown",
   "metadata": {},
   "source": [
    "Искомый доверительный интервал: [110.556; 125.644]"
   ]
  },
  {
   "cell_type": "code",
   "execution_count": 42,
   "metadata": {},
   "outputs": [
    {
     "name": "stdout",
     "output_type": "stream",
     "text": [
      "Среднее: 118.1\n",
      "Среднее квадратичное отклонение: 10.54566788359614\n",
      "Доверительный интервал: [110.55608365158724, 125.64391634841274]\n"
     ]
    }
   ],
   "source": [
    "# проверяем\n",
    "x = np.array([131, 125, 115, 122, 131, 115, 107, 99, 125, 111])\n",
    "from scipy import stats\n",
    "print(f'Среднее: {np.mean(x)}')\n",
    "print(f'Среднее квадратичное отклонение: {np.std(x, ddof=1)}')\n",
    "bound = stats.t.ppf(0.975, 9)*stats.sem(x, ddof=1)\n",
    "print(f'Доверительный интервал: [{np.mean(x) - bound}, {np.mean(x) + bound}]')"
   ]
  },
  {
   "cell_type": "markdown",
   "metadata": {},
   "source": [
    "**3. Известно, что рост футболистов в сборной распределен нормально\n",
    "с дисперсией генеральной совокупности, равной 25 кв.см. Объем выборки равен 27,\n",
    "среднее выборочное составляет 174.2. Найдите доверительный интервал для математического ожидания с надежностью 0.95.**"
   ]
  },
  {
   "cell_type": "markdown",
   "metadata": {},
   "source": [
    "Среднее квадратическое отклонение известно => применяем z-тест.\n",
    "\n",
    "Табличное значение $z_{\\alpha/2} = 1.96$ при $\\alpha = 0.05$\n",
    "\n",
    "Найдем доверительный интервал:\n",
    "\n",
    "$$\\overline X \\pm z_{\\alpha/2}\\cdot\\frac{\\sigma}{\\sqrt n} = 174.2 \\pm 1.96 \\cdot \\frac{5}{5.196}$$\n",
    "\n",
    "Искомый доверительный интервал: [172.314; 176.086]"
   ]
  },
  {
   "cell_type": "code",
   "execution_count": null,
   "metadata": {},
   "outputs": [],
   "source": []
  }
 ],
 "metadata": {
  "kernelspec": {
   "display_name": "Python 3",
   "language": "python",
   "name": "python3"
  },
  "language_info": {
   "codemirror_mode": {
    "name": "ipython",
    "version": 3
   },
   "file_extension": ".py",
   "mimetype": "text/x-python",
   "name": "python",
   "nbconvert_exporter": "python",
   "pygments_lexer": "ipython3",
   "version": "3.8.5"
  }
 },
 "nbformat": 4,
 "nbformat_minor": 4
}
