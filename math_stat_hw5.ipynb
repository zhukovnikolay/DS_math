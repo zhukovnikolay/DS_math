{
 "cells": [
  {
   "cell_type": "markdown",
   "metadata": {},
   "source": [
    "## Homework 5\n",
    "### Проверка статистических гипотез. P-значения. Доверительные интервалы. A/B-тестирование"
   ]
  },
  {
   "cell_type": "markdown",
   "metadata": {},
   "source": [
    "**1) Известно, что генеральная совокупность распределена нормально \u000b",
    "со средним квадратическим отклонением, равным 16. Найти доверительный интервал для оценки математического ожидания с надежностью 0.95,\u000b",
    "если выборочная средняя M = 80, а объем выборки n = 256.**"
   ]
  },
  {
   "cell_type": "markdown",
   "metadata": {},
   "source": [
    "Среднее квадратическое отклонение известно => применяем z-тест.\n",
    "\n",
    "Табличное значение $z_{\\alpha/2} = 1.96$ при $\\alpha = 0.05$"
   ]
  },
  {
   "cell_type": "markdown",
   "metadata": {},
   "source": [
    "Найдем доверительный интервал:\n",
    "$$\\overline X \\pm z_{\\alpha/2}\\cdot\\frac{\\sigma}{\\sqrt n} = 80 \\pm 1.96 \\cdot \\frac{16}{16}$$"
   ]
  },
  {
   "cell_type": "markdown",
   "metadata": {},
   "source": [
    "Искомый доверительный интервал: [78.04; 81.96]"
   ]
  },
  {
   "cell_type": "markdown",
   "metadata": {},
   "source": [
    "**2) В результате 10 независимых измерений некоторой величины X, выполненных с одинаковой точностью, получены опытные данные: 6.9, 6.1, 6.2, 6.8, 7.5, 6.3, 6.4, 6.9, 6.7, 6.1. Предполагая, что результаты измерений подчинены нормальному закону распределения вероятностей, оценить истинное значение величины X при помощи доверительного интервала, покрывающего это значение с доверительной вероятностью 0,95.**"
   ]
  },
  {
   "cell_type": "markdown",
   "metadata": {},
   "source": [
    "Дисперсия неизвестна => применяем t-тест. Найдем:\n",
    "$$\\overline X = \\frac{6.9+6.1+6.2+6.8+7.5+6.3+6.4+6.9+6.7+6.1}{10} = 6.59$$\n",
    "\n",
    "$$\\sigma = \\sqrt{\\frac{\\sum{(X - \\overline X)^2}}{n - 1}} \\approx 0.45$$"
   ]
  },
  {
   "cell_type": "markdown",
   "metadata": {},
   "source": [
    "Найдем табличное значение $t_{\\alpha/2} = 2.262$ при $\\alpha = 0.05$ и числе степеней свободы = 9."
   ]
  },
  {
   "cell_type": "markdown",
   "metadata": {},
   "source": [
    "Найдем доверительный интервал:\n",
    "$$\\overline X \\pm t_{\\alpha/2}\\cdot\\frac{\\sigma}{\\sqrt n} = 6.59 \\pm 2.262 \\cdot \\frac{0.45}{3.162}$$"
   ]
  },
  {
   "cell_type": "markdown",
   "metadata": {},
   "source": [
    "Искомый доверительный интервал: [6.268; 6.912]"
   ]
  },
  {
   "cell_type": "code",
   "execution_count": 8,
   "metadata": {},
   "outputs": [
    {
     "name": "stdout",
     "output_type": "stream",
     "text": [
      "Среднее: 6.590000000000001\n",
      "Среднее квадратичное отклонение: 0.4508017549014448\n",
      "Доверительный интервал: [6.267515851415713, 6.912484148584288]\n"
     ]
    }
   ],
   "source": [
    "# проверяем\n",
    "import numpy as np\n",
    "x_n = np.array([6.9, 6.1, 6.2, 6.8, 7.5, 6.3, 6.4, 6.9, 6.7, 6.1])\n",
    "from scipy import stats\n",
    "print(f'Среднее: {np.mean(x_n)}')\n",
    "print(f'Среднее квадратичное отклонение: {np.std(x_n, ddof=1)}')\n",
    "bound = stats.t.ppf(0.975, 9)*stats.sem(x_n, ddof=1)\n",
    "print(f'Доверительный интервал: [{np.mean(x_n) - bound}, {np.mean(x_n) + bound}]')"
   ]
  },
  {
   "cell_type": "markdown",
   "metadata": {},
   "source": [
    "**3) Утверждается, что шарики для подшипников, изготовленные автоматическим станком, имеют средний диаметр 17 мм. Используя односторонний критерий с α=0,05, проверить эту гипотезу, если в выборке из n=100 шариков средний диаметр оказался равным 17.5 мм, а дисперсия известна и равна 4 кв.мм.**"
   ]
  },
  {
   "cell_type": "markdown",
   "metadata": {},
   "source": [
    "Дисперсия известна => применяем z-тест."
   ]
  },
  {
   "cell_type": "markdown",
   "metadata": {},
   "source": [
    "$H0: d = 17 mm, \\mu = \\mu0$\n",
    "\n",
    "$H1: d = 17.5mm, \\mu>\\mu0$"
   ]
  },
  {
   "cell_type": "markdown",
   "metadata": {},
   "source": [
    "Z табличное при $\\alpha = 0.05$ приблизительно равно 1.645.\n",
    "\n",
    "Рассчитаем Z для исходных данных:\n",
    "$$Z_N = \\frac{\\overline X - \\mu0}{\\sigma/\\sqrt n} = \\frac{17.5 - 17}{2/10} = 2.5$$"
   ]
  },
  {
   "cell_type": "markdown",
   "metadata": {},
   "source": [
    "Z расчетное > Z табличного => принимаем альтернативную гипотезу."
   ]
  },
  {
   "cell_type": "code",
   "execution_count": 15,
   "metadata": {},
   "outputs": [
    {
     "data": {
      "text/plain": [
       "1.6448536269514722"
      ]
     },
     "execution_count": 15,
     "metadata": {},
     "output_type": "execute_result"
    }
   ],
   "source": [
    "# проверяем\n",
    "stats.norm.ppf(q = 0.95)"
   ]
  },
  {
   "cell_type": "code",
   "execution_count": 17,
   "metadata": {},
   "outputs": [
    {
     "data": {
      "text/plain": [
       "2.5"
      ]
     },
     "execution_count": 17,
     "metadata": {},
     "output_type": "execute_result"
    }
   ],
   "source": [
    "(17.5 - 17) / (2 / 10)"
   ]
  },
  {
   "cell_type": "markdown",
   "metadata": {},
   "source": [
    "**4) Продавец утверждает, что средний вес пачки печенья составляет 200 г. Из партии извлечена выборка из 10 пачек. \n",
    "Вес каждой пачки составляет: 202, 203, 199, 197, 195, 201, 200, 204, 194, 190. Известно, что их веса распределены нормально. Верно ли утверждение продавца, если учитывать, что доверительная вероятность равна 99%?**"
   ]
  },
  {
   "cell_type": "markdown",
   "metadata": {},
   "source": [
    "Дисперсия неизвестна => применяем t-тест."
   ]
  },
  {
   "cell_type": "markdown",
   "metadata": {},
   "source": [
    "$H0: weight = 200 gm, \\mu = \\mu0$\n",
    "\n",
    "$H1: weight \\neq 200 gm, \\mu \\neq \\mu0$"
   ]
  },
  {
   "cell_type": "markdown",
   "metadata": {},
   "source": [
    "Найдем:\n",
    "$$\\overline X = \\frac{202+203+199+197+195+201+200+204+194+190}{10} = 198.5$$\n",
    "\n",
    "$$\\sigma = \\sqrt{\\frac{\\sum{(X - \\overline X)^2}}{n - 1}} \\approx 4.45$$"
   ]
  },
  {
   "cell_type": "markdown",
   "metadata": {},
   "source": [
    "Найдем табличное значение границ $t_{\\alpha/2} = \\pm 3.250$ при $\\alpha = 0.01$ и числе степеней свободы = 9."
   ]
  },
  {
   "cell_type": "markdown",
   "metadata": {},
   "source": [
    "Рассчитаем t для исходных данных:\n",
    "$$t_N = \\frac{\\overline X - \\mu0}{\\sigma/\\sqrt n} = \\frac{198.5 - 200}{4.45/10} = -3.37$$"
   ]
  },
  {
   "cell_type": "markdown",
   "metadata": {},
   "source": [
    "Поскольку $t_N < t_{\\alpha/2}$, принимаем альтернативную гипотезу."
   ]
  },
  {
   "cell_type": "code",
   "execution_count": 50,
   "metadata": {},
   "outputs": [
    {
     "name": "stdout",
     "output_type": "stream",
     "text": [
      "Среднее: 198.5\n",
      "Среднее квадратичное отклонение: 4.453463071962462\n",
      "t-табличное: +/-3.2498355440153697\n",
      "t-расчетное: -3.368165348543039\n"
     ]
    }
   ],
   "source": [
    "# проверяем\n",
    "x_n = np.array([202, 203, 199, 197, 195, 201, 200, 204, 194, 190])\n",
    "print(f'Среднее: {np.mean(x_n)}')\n",
    "print(f'Среднее квадратичное отклонение: {np.std(x_n, ddof=1)}')\n",
    "print(f't-табличное: +/-{stats.t.ppf(0.995, 9)}')\n",
    "print(f't-расчетное: {(np.mean(x_n)-200)/(np.std(x_n, ddof=1)/10)}')"
   ]
  },
  {
   "cell_type": "code",
   "execution_count": null,
   "metadata": {},
   "outputs": [],
   "source": []
  }
 ],
 "metadata": {
  "kernelspec": {
   "display_name": "Python 3",
   "language": "python",
   "name": "python3"
  },
  "language_info": {
   "codemirror_mode": {
    "name": "ipython",
    "version": 3
   },
   "file_extension": ".py",
   "mimetype": "text/x-python",
   "name": "python",
   "nbconvert_exporter": "python",
   "pygments_lexer": "ipython3",
   "version": "3.8.5"
  }
 },
 "nbformat": 4,
 "nbformat_minor": 4
}
