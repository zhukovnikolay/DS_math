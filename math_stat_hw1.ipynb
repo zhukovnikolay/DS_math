{
 "cells": [
  {
   "cell_type": "markdown",
   "metadata": {},
   "source": [
    "## Homework 1\n",
    "### Урок 1. Случайные события. Условная вероятность. Формула Байеса. Независимые испытания"
   ]
  },
  {
   "cell_type": "markdown",
   "metadata": {},
   "source": [
    "#### 1. Из колоды в 52 карты извлекаются случайным образом 4 карты. \n",
    "**a) Найти вероятность того, что все карты – крести.**"
   ]
  },
  {
   "cell_type": "markdown",
   "metadata": {},
   "source": [
    "Возможно два решения -  через сочетания (все элементы множества участвуют, порядок неважен) и через вероятность зависимых событий (последовательное извлечение карт масти крести). Решим обоими способами. \n",
    "Обозначим события:\n",
    "* A - первая извлеченная карта масти крести.\n",
    "* B - вторая извлеченная карта масти крести.\n",
    "* C - третья извлеченная карта масти крести.\n",
    "* D - четвертая извлеченная карта масти крести.\n",
    "\n",
    "Данные события зависимы, т.к. наступление каждого из них меняет вероятность наступления другого. Тогда из формулы вероятности появления зависимых событий:\n",
    "$$P(A*B*C*D) = P(A)*P(B|A)*P(C|B)*P(D|C) = \\frac{13}{52}\\cdot\\frac{12}{51}\\cdot\\frac{11}{50}\\cdot\\frac{10}{49} = 0.002641$$"
   ]
  },
  {
   "cell_type": "markdown",
   "metadata": {},
   "source": [
    "Решим программно через сочетания:\n",
    "\n",
    "Число благоприятствующих исходов: $C^4_{13} * C^0_{39}$, число всех возможных исходов: $C^{4}_{52}$. Их отношение будет искомой вероятностью."
   ]
  },
  {
   "cell_type": "code",
   "execution_count": 2,
   "metadata": {},
   "outputs": [],
   "source": [
    "import numpy as np\n",
    "def combinations(n, k):\n",
    "    return np.math.factorial(n) // (np.math.factorial(k) * np.math.factorial(n - k))"
   ]
  },
  {
   "cell_type": "code",
   "execution_count": 3,
   "metadata": {},
   "outputs": [
    {
     "data": {
      "text/plain": [
       "0.0026410564225690276"
      ]
     },
     "execution_count": 3,
     "metadata": {},
     "output_type": "execute_result"
    }
   ],
   "source": [
    "(combinations(13, 4) * combinations(39, 0))/combinations(52, 4)"
   ]
  },
  {
   "cell_type": "markdown",
   "metadata": {},
   "source": [
    "______\n",
    "**б) Найти вероятность, что среди 4-х карт окажется хотя бы один туз.**"
   ]
  },
  {
   "cell_type": "markdown",
   "metadata": {},
   "source": [
    "Решим программно через сочетания:\n",
    "Число благоприятствующих исходов: $C^1_{4}*C^{3}_{48} + C^2_{4}*C^{2}_{48} + C^3_{4}*C^{1}_{48} + C^4_{4}*C^{0}_{48}$, число всех возможных исходов: $C^{4}_{52}$. Их отношение будет искомой вероятностью."
   ]
  },
  {
   "cell_type": "code",
   "execution_count": 4,
   "metadata": {},
   "outputs": [
    {
     "data": {
      "text/plain": [
       "69184"
      ]
     },
     "execution_count": 4,
     "metadata": {},
     "output_type": "execute_result"
    }
   ],
   "source": [
    "# число событий - один туз\n",
    "C1 = combinations(4, 1) * combinations(48, 3)\n",
    "C1"
   ]
  },
  {
   "cell_type": "code",
   "execution_count": 5,
   "metadata": {},
   "outputs": [
    {
     "data": {
      "text/plain": [
       "6768"
      ]
     },
     "execution_count": 5,
     "metadata": {},
     "output_type": "execute_result"
    }
   ],
   "source": [
    "# число событий - два туза\n",
    "C2 = combinations(4, 2) * combinations(48, 2)\n",
    "C2"
   ]
  },
  {
   "cell_type": "code",
   "execution_count": 6,
   "metadata": {},
   "outputs": [
    {
     "data": {
      "text/plain": [
       "192"
      ]
     },
     "execution_count": 6,
     "metadata": {},
     "output_type": "execute_result"
    }
   ],
   "source": [
    "# число событий - три туза\n",
    "C3 = combinations(4, 3) * combinations(48, 1)\n",
    "C3"
   ]
  },
  {
   "cell_type": "code",
   "execution_count": 7,
   "metadata": {},
   "outputs": [
    {
     "data": {
      "text/plain": [
       "1"
      ]
     },
     "execution_count": 7,
     "metadata": {},
     "output_type": "execute_result"
    }
   ],
   "source": [
    "# число событий - четыре туза\n",
    "C4 = combinations(4, 4) * combinations(48, 0)\n",
    "C4"
   ]
  },
  {
   "cell_type": "code",
   "execution_count": 8,
   "metadata": {},
   "outputs": [
    {
     "data": {
      "text/plain": [
       "270725"
      ]
     },
     "execution_count": 8,
     "metadata": {},
     "output_type": "execute_result"
    }
   ],
   "source": [
    "# всего событий\n",
    "C = combinations(52, 4)\n",
    "C"
   ]
  },
  {
   "cell_type": "code",
   "execution_count": 9,
   "metadata": {},
   "outputs": [
    {
     "data": {
      "text/plain": [
       "0.2812632745405855"
      ]
     },
     "execution_count": 9,
     "metadata": {},
     "output_type": "execute_result"
    }
   ],
   "source": [
    "# Искомая вероятность\n",
    "P = (C1 + C2 + C3 + C4) / C\n",
    "P"
   ]
  },
  {
   "cell_type": "markdown",
   "metadata": {},
   "source": [
    "_____\n",
    "**2. На входной двери подъезда установлен кодовый замок, содержащий десять кнопок с цифрами от 0 до 9. Код содержит три цифры, которые нужно нажать одновременно. Какова вероятность того, что человек, не знающий код, откроет дверь с первой попытки?**"
   ]
  },
  {
   "cell_type": "markdown",
   "metadata": {},
   "source": [
    "Задача на сочетания - порядок неважен, участвуют все элементы. Благоприятствующие исходы - $C^3_3 * C^0_7 = 1$, все исходы - $C^3_{10}$. Найдем искомую вероятность программно:"
   ]
  },
  {
   "cell_type": "code",
   "execution_count": 10,
   "metadata": {},
   "outputs": [
    {
     "data": {
      "text/plain": [
       "0.008333333333333333"
      ]
     },
     "execution_count": 10,
     "metadata": {},
     "output_type": "execute_result"
    }
   ],
   "source": [
    "(combinations(3, 3) * combinations(7, 0))/combinations(10, 3)"
   ]
  },
  {
   "cell_type": "markdown",
   "metadata": {},
   "source": [
    "_______\n",
    "**3. В ящике имеется 15 деталей, из которых 9 окрашены. Рабочий случайным образом извлекает 3 детали. Какова вероятность того, что все извлеченные детали окрашены?**"
   ]
  },
  {
   "cell_type": "markdown",
   "metadata": {},
   "source": [
    "Аналогично первой задаче, возможно два решения -  через сочетания и через вероятность зависимых событий (последовательное извлечение окрашенных деталей). Решим обоими способами. \n",
    "Обозначим события:\n",
    "* A - первая извлеченная деталь окрашена.\n",
    "* B - вторая извлеченная деталь окрашена.\n",
    "* C - третья извлеченная деталь окрашена.\n",
    "\n",
    "Данные события зависимы, т.к. наступление каждого из них меняет вероятность наступления другого. Тогда из формулы вероятности появления зависимых событий:\n",
    "$$P(A*B*C) = P(A)*P(B|A)*P(C|B) = \\frac{9}{15}\\cdot\\frac{8}{14}\\cdot\\frac{7}{13} = 0.184615$$"
   ]
  },
  {
   "cell_type": "markdown",
   "metadata": {},
   "source": [
    "Решим программно через сочетания:\n",
    "\n",
    "Число благоприятствующих исходов: $C^3_{9} * C^0_{12}$, число всех возможных исходов: $C^{3}_{15}$. Их отношение будет искомой вероятностью."
   ]
  },
  {
   "cell_type": "code",
   "execution_count": 11,
   "metadata": {},
   "outputs": [
    {
     "data": {
      "text/plain": [
       "0.18461538461538463"
      ]
     },
     "execution_count": 11,
     "metadata": {},
     "output_type": "execute_result"
    }
   ],
   "source": [
    "(combinations(9, 3) * combinations(12, 0))/combinations(15, 3)"
   ]
  },
  {
   "cell_type": "markdown",
   "metadata": {},
   "source": [
    "_____\n",
    "**4. В лотерее 100 билетов. Из них 2 выигрышных. Какова вероятность того, что 2 приобретенных билета окажутся выигрышными?**\n",
    "Аналогично предыдущим задачам.\n",
    "Обозначим события:\n",
    "* A - первый билет выигрышный.\n",
    "* B - второй билет выигрышный.\n",
    "\n",
    "Из формулы вероятности появления зависимых событий:\n",
    "$$P(A*B) = P(A)*P(B|A) = \\frac{2}{100}\\cdot\\frac{1}{99} = 0.00(02)$$"
   ]
  },
  {
   "cell_type": "markdown",
   "metadata": {},
   "source": [
    "Решим программно через сочетания:\n",
    "\n",
    "Число благоприятствующих исходов: $C^2_{2} * C^0_{98}$, число всех возможных исходов: $C^{2}_{100}$. Их отношение будет искомой вероятностью."
   ]
  },
  {
   "cell_type": "code",
   "execution_count": 12,
   "metadata": {},
   "outputs": [
    {
     "data": {
      "text/plain": [
       "0.00020202020202020202"
      ]
     },
     "execution_count": 12,
     "metadata": {},
     "output_type": "execute_result"
    }
   ],
   "source": [
    "(combinations(2, 2) * combinations(98, 0))/combinations(100, 2)"
   ]
  },
  {
   "cell_type": "code",
   "execution_count": null,
   "metadata": {},
   "outputs": [],
   "source": []
  }
 ],
 "metadata": {
  "kernelspec": {
   "display_name": "Python 3",
   "language": "python",
   "name": "python3"
  },
  "language_info": {
   "codemirror_mode": {
    "name": "ipython",
    "version": 3
   },
   "file_extension": ".py",
   "mimetype": "text/x-python",
   "name": "python",
   "nbconvert_exporter": "python",
   "pygments_lexer": "ipython3",
   "version": "3.8.5"
  }
 },
 "nbformat": 4,
 "nbformat_minor": 4
}
