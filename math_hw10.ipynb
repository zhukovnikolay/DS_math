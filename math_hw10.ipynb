{
 "cells": [
  {
   "cell_type": "markdown",
   "metadata": {},
   "source": [
    "## Homework 10\n",
    "### Ряды"
   ]
  },
  {
   "cell_type": "markdown",
   "metadata": {},
   "source": [
    "#### 1. Исследовать ряд на сходимость, используя признак д’Аламбера:\n",
    "$$\\sum_{n=1}^\\infty\\frac{n^n}{(n!)^2}$$"
   ]
  },
  {
   "cell_type": "markdown",
   "metadata": {},
   "source": [
    "Признак д'Аламбера:\n",
    "$$\\lim_{n\\to +\\infty}\\frac{a_{n+1}}{a_{n}}=\\lim_{n\\to +\\infty}\\frac{(n+1)^{n+1}}{((n+1)!)^2}:\\frac{n^n}{(n!)^2} =$$"
   ]
  },
  {
   "cell_type": "markdown",
   "metadata": {},
   "source": [
    "$$=\\lim_{n\\to +\\infty}\\frac{(n+1)^{n}\\cdot(n+1)\\cdot n!\\cdot n!}{n!\\cdot(n+1)\\cdot n! \\cdot(n+1)\\cdot n^n} = \\lim_{n\\to +\\infty}\\frac{(n+1)^{n}}{(n+1)\\cdot n^n} = $$"
   ]
  },
  {
   "cell_type": "markdown",
   "metadata": {},
   "source": [
    "$$=\\lim_{n\\to +\\infty}\\frac{1}{n+1}\\cdot\\lim_{n\\to +\\infty}\\left(1+\\frac{1}{n}\\right)^n=0\\cdot e = 0 < 1$$\n",
    "Ряд сходится"
   ]
  },
  {
   "cell_type": "markdown",
   "metadata": {},
   "source": [
    "#### 2. Исследовать ряд на сходимость, используя радикальный признак Коши:\n",
    "$$\\sum_{n=1}^\\infty\\frac{n}{2^n}$$"
   ]
  },
  {
   "cell_type": "markdown",
   "metadata": {},
   "source": [
    "Радикальный признак Коши:\n",
    "$$\\lim_{n\\to +\\infty}\\sqrt[n]{a_{n}}=\\lim_{n\\to +\\infty}\\sqrt[n]{\\frac{n}{2^n}}=\\frac{\\lim_{n\\to +\\infty}\\sqrt[n]{n}}{\\lim_{n\\to +\\infty}\\sqrt[n]{2^n}}=\\frac{\\lim_{n\\to +\\infty}{n^\\frac{1}{n}}}{2} = \\frac{1}{2}<1$$\n",
    "Ряд сходится"
   ]
  },
  {
   "cell_type": "markdown",
   "metadata": {},
   "source": [
    "#### 3. Исследовать ряд на сходимость, используя признак Лейбница:\n",
    "$$\\sum_{n=1}^\\infty\\frac{(-1)^n}{n + \\ln n}$$"
   ]
  },
  {
   "cell_type": "markdown",
   "metadata": {},
   "source": [
    "$$\\sum_{n=1}^\\infty\\frac{(-1)^n}{n + \\ln n} = -\\frac{1}{1} + \\frac{1}{2 + \\ln 2} - \\frac{1}{3 + \\ln 3} + \\frac{1}{4 + \\ln 4} - ...$$\n",
    "Ряд является знакочередующимся"
   ]
  },
  {
   "cell_type": "markdown",
   "metadata": {},
   "source": [
    "$$\\lim_{n\\to +\\infty}\\left|\\frac{(-1)^n}{n + \\ln n}\\right| = \\lim_{n\\to +\\infty}\\frac{1}{n + \\ln n}=0$$\n",
    "Ряд сходится. Исследуем характер сходимости:"
   ]
  },
  {
   "cell_type": "markdown",
   "metadata": {},
   "source": [
    "$$\\sum_{n=1}^\\infty\\left|\\frac{(-1)^n}{n + \\ln n}\\right| = \\sum_{n=1}^\\infty\\frac{1}{n + \\ln n}$$"
   ]
  },
  {
   "cell_type": "markdown",
   "metadata": {},
   "source": [
    "Сравним исследуемый ряд с гармоническим по первому признаку сравнения:\n",
    "$$ 0 \\leq \\frac{1}{n} \\leq \\frac{1}{n + \\ln n}$$\n",
    "Из расходимости гармонического ряда (ряда с меньшими членами) следует расходимость исследуемого. Таким образом ряд $\\sum_{n=1}^\\infty\\frac{(-1)^n}{n + \\ln n}$ сходится условно."
   ]
  },
  {
   "cell_type": "markdown",
   "metadata": {},
   "source": [
    "#### 4. Исследовать ряд на сходимость, используя признак Раабе:\n",
    "$$\\sum_{n=1}^\\infty\\frac{3^n}{2^n}$$"
   ]
  },
  {
   "cell_type": "markdown",
   "metadata": {},
   "source": [
    "$$\\lim_{n\\to +\\infty}n\\Bigr(\\frac{a_{n}}{a_{n+1}}-1\\Bigl) = \\lim_{n\\to +\\infty}n\\Bigr(\\frac{3^n\\cdot2^{n+1}}{2^n\\cdot3^{n+1}}-1\\Bigl) = \\lim_{n\\to +\\infty}n\\Bigr(\\frac{2}{3}-1\\Bigl) = -\\infty < 1$$\n",
    "Ряд расходится"
   ]
  },
  {
   "cell_type": "markdown",
   "metadata": {},
   "source": [
    "#### 5. Разложить функцию по Тейлору в единице:\n",
    "$$f(x) = \\ln(16x^2)$$"
   ]
  },
  {
   "cell_type": "markdown",
   "metadata": {},
   "source": [
    "Преобразуем исследуемую функцию:\n",
    "$$f(x) = \\ln(16x^2)=\\ln16 + \\ln(x^2) = 2\\ln4 + 2\\ln x$$"
   ]
  },
  {
   "cell_type": "markdown",
   "metadata": {},
   "source": [
    "Разложим преобразованную функцию в ряд Тейлора в окрестности единицы:\n",
    "$$f(x) = 2\\ln4 + 2\\ln1 + \\frac{2}{1\\cdot1!}\\cdot(x-1) - \\frac{2}{1^2\\cdot2!}\\cdot(x-1)^2 + \\frac{4}{1^3\\cdot3!}\\cdot(x-1)^3 - ... = 2\\ln4 + 2\\sum\\limits_{n=1}^\\infty\\frac{(-1)^{n+1}(x-1)^n}{n}$$"
   ]
  },
  {
   "cell_type": "code",
   "execution_count": null,
   "metadata": {},
   "outputs": [],
   "source": []
  }
 ],
 "metadata": {
  "kernelspec": {
   "display_name": "Python 3",
   "language": "python",
   "name": "python3"
  },
  "language_info": {
   "codemirror_mode": {
    "name": "ipython",
    "version": 3
   },
   "file_extension": ".py",
   "mimetype": "text/x-python",
   "name": "python",
   "nbconvert_exporter": "python",
   "pygments_lexer": "ipython3",
   "version": "3.8.5"
  }
 },
 "nbformat": 4,
 "nbformat_minor": 4
}
