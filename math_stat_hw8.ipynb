{
 "cells": [
  {
   "cell_type": "markdown",
   "metadata": {},
   "source": [
    "## Homework 8\n",
    "### Урок 8. Дисперсионный анализ. Логистическая регрессия"
   ]
  },
  {
   "cell_type": "markdown",
   "metadata": {},
   "source": [
    "**1. Провести дисперсионный анализ для определения того, есть ли различия среднего роста среди взрослых футболистов, хоккеистов и штангистов. Даны значения роста в трех группах случайно выбранных спортсменов: Футболисты: 173, 175, 180, 178, 177, 185, 183, 182. Хоккеисты: 177, 179, 180, 188, 177, 172, 171, 184, 180. Штангисты: 172, 173, 169, 177, 166, 180, 178, 177, 172, 166, 170.**"
   ]
  },
  {
   "cell_type": "markdown",
   "metadata": {},
   "source": [
    "По условию задачи исследуем влияние одного фактора (вид спорта) на количественный показатель (рост спортсмена), при этом даны наблюдения по трем уровням (футболисты, хоккеисты, штангисты). Определим существуют ли различия между группами:"
   ]
  },
  {
   "cell_type": "code",
   "execution_count": 4,
   "metadata": {},
   "outputs": [],
   "source": [
    "# вычислим вручную\n",
    "%matplotlib inline\n",
    "import matplotlib.pyplot as plt\n",
    "import numpy as np\n",
    "from scipy import stats\n",
    "y_fb = np.array([173, 175, 180, 178, 177, 185, 183, 182])\n",
    "y_hck = np.array([177, 179, 180, 188, 177, 172, 171, 184, 180])\n",
    "y_wl = np.array([172, 173, 169, 177, 166, 180, 178, 177, 172, 166, 170])"
   ]
  },
  {
   "cell_type": "code",
   "execution_count": 8,
   "metadata": {},
   "outputs": [
    {
     "data": {
      "image/png": "[encoded data removed]",
      "text/plain": [
       "<Figure size 432x288 with 1 Axes>"
      ]
     },
     "metadata": {
      "needs_background": "light"
     },
     "output_type": "display_data"
    }
   ],
   "source": [
    "plt.boxplot([y_fb, y_hck, y_wl], labels = ['Футболисты', 'Хоккеисты', 'Штангисты'])\n",
    "plt.show()"
   ]
  },
  {
   "cell_type": "markdown",
   "metadata": {},
   "source": [
    "Заметно, что рост штангистов отличается от роста хоккеистов и футболистов. За исключеним некоторых выбросов, рост футболистов и хоккеистов в целом схож (медиана тоже практически одинакова). "
   ]
  },
  {
   "cell_type": "code",
   "execution_count": 13,
   "metadata": {},
   "outputs": [
    {
     "name": "stdout",
     "output_type": "stream",
     "text": [
      "Средний рост: футболистов - 179.125, хоккеистов - 178.66666666666666, штангистов - 172.72727272727272, общий - 176.46428571428572\n"
     ]
    }
   ],
   "source": [
    "# найдем средние по группам и среднее по всем значениям\n",
    "y_fb_mean = y_fb.mean()\n",
    "y_hck_mean = y_hck.mean()\n",
    "y_wl_mean = y_wl.mean()\n",
    "Y_mean = np.concatenate([y_fb, y_hck, y_wl]).mean()\n",
    "print(f'Средний рост: футболистов - {y_fb_mean}, хоккеистов - {y_hck_mean}, штангистов - {y_wl_mean}, общий - {Y_mean}')"
   ]
  },
  {
   "cell_type": "code",
   "execution_count": 20,
   "metadata": {},
   "outputs": [
    {
     "data": {
      "text/plain": [
       "830.9642857142854"
      ]
     },
     "execution_count": 20,
     "metadata": {},
     "output_type": "execute_result"
    }
   ],
   "source": [
    "# найдем сумму квадратов отклонений наблюдений от общего среднего\n",
    "def square_sum(x, mean, n = []):\n",
    "    sum = 0\n",
    "    for idx, el in enumerate(x):\n",
    "        if n == []:\n",
    "            sum += (el - mean)**2\n",
    "        else:\n",
    "            sum += (el - mean)**2 * n[idx]\n",
    "    return sum\n",
    "\n",
    "S = square_sum(np.concatenate([y_fb, y_hck, y_wl]), Y_mean)\n",
    "S"
   ]
  },
  {
   "cell_type": "code",
   "execution_count": 21,
   "metadata": {},
   "outputs": [
    {
     "data": {
      "text/plain": [
       "253.9074675324678"
      ]
     },
     "execution_count": 21,
     "metadata": {},
     "output_type": "execute_result"
    }
   ],
   "source": [
    "# найдем сумму квадратов отклонений средних групповых значений от общего среднего значения\n",
    "S_fact = square_sum([y_fb_mean, y_hck_mean, y_wl_mean], Y_mean, [len(y_fb), len(y_hck), len(y_wl)])\n",
    "S_fact"
   ]
  },
  {
   "cell_type": "code",
   "execution_count": 22,
   "metadata": {},
   "outputs": [
    {
     "data": {
      "text/plain": [
       "577.0568181818181"
      ]
     },
     "execution_count": 22,
     "metadata": {},
     "output_type": "execute_result"
    }
   ],
   "source": [
    "# найдем остаточную сумму квадратов отклонений\n",
    "S_res = square_sum(y_fb, y_fb_mean) + square_sum(y_hck, y_hck_mean) + square_sum(y_wl, y_wl_mean)\n",
    "S_res"
   ]
  },
  {
   "cell_type": "code",
   "execution_count": 23,
   "metadata": {},
   "outputs": [
    {
     "data": {
      "text/plain": [
       "126.9537337662339"
      ]
     },
     "execution_count": 23,
     "metadata": {},
     "output_type": "execute_result"
    }
   ],
   "source": [
    "# вычисляем факторную дисперсию\n",
    "sigma_fact = S_fact / (3 - 1)\n",
    "sigma_fact"
   ]
  },
  {
   "cell_type": "code",
   "execution_count": 24,
   "metadata": {},
   "outputs": [
    {
     "data": {
      "text/plain": [
       "23.082272727272724"
      ]
     },
     "execution_count": 24,
     "metadata": {},
     "output_type": "execute_result"
    }
   ],
   "source": [
    "# вычисляем остаточную дисперсию\n",
    "sigma_res = S_res / (len(y_fb) + len(y_hck) + len(y_wl) - 3)\n",
    "sigma_res"
   ]
  },
  {
   "cell_type": "code",
   "execution_count": 26,
   "metadata": {},
   "outputs": [
    {
     "data": {
      "text/plain": [
       "5.500053450812599"
      ]
     },
     "execution_count": 26,
     "metadata": {},
     "output_type": "execute_result"
    }
   ],
   "source": [
    "# вычислим F расчетное:\n",
    "F_H = sigma_fact / sigma_res\n",
    "F_H"
   ]
  },
  {
   "cell_type": "markdown",
   "metadata": {},
   "source": [
    "Табличное значение Fкрит для уровня значимости 0.05 и 2 степеней свободы составит 3.38, для уровня значимости 0.01 - 5.56. \n",
    "\n",
    "Таким образом, для уровня значимости 0.05 получаем, что различия между ростом спортсменов для различных видов спорта статистически значимы, для уровня значимости 0.01 различия неоднозначны."
   ]
  },
  {
   "cell_type": "code",
   "execution_count": 28,
   "metadata": {},
   "outputs": [
    {
     "data": {
      "text/plain": [
       "F_onewayResult(statistic=5.500053450812596, pvalue=0.010482206918698694)"
      ]
     },
     "execution_count": 28,
     "metadata": {},
     "output_type": "execute_result"
    }
   ],
   "source": [
    "# проверим готовым методом\n",
    "stats.f_oneway(y_fb, y_hck, y_wl)"
   ]
  },
  {
   "cell_type": "markdown",
   "metadata": {},
   "source": [
    "Для уровня значимости $\\alpha = 0.05$ получаем, что различия между ростом спортсменов для различных видов спорта статистически значимы. \n",
    "\n",
    "Для уровня значимости $\\alpha = 0.01$, скорее всего, потребовались бы дополнительные измерения. "
   ]
  },
  {
   "cell_type": "code",
   "execution_count": null,
   "metadata": {},
   "outputs": [],
   "source": []
  }
 ],
 "metadata": {
  "kernelspec": {
   "display_name": "Python 3",
   "language": "python",
   "name": "python3"
  },
  "language_info": {
   "codemirror_mode": {
    "name": "ipython",
    "version": 3
   },
   "file_extension": ".py",
   "mimetype": "text/x-python",
   "name": "python",
   "nbconvert_exporter": "python",
   "pygments_lexer": "ipython3",
   "version": "3.8.5"
  }
 },
 "nbformat": 4,
 "nbformat_minor": 4
}
