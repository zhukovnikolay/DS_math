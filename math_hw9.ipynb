{
 "cells": [
  {
   "cell_type": "markdown",
   "metadata": {},
   "source": [
    "## Homework 9\n",
    "### Понятие об интеграле"
   ]
  },
  {
   "cell_type": "markdown",
   "metadata": {},
   "source": [
    "#### 1. Найти неопределенный интеграл\n",
    "Интеграл суммы равен сумме интегралов, таким образом:\n",
    "$$\\int(2x^2-2x-1+\\sin x - \\cos x + \\ln x + e^x)dx = \\int2x^2dx - \\int2xdx-\\int dx+\\int\\sin xdx-\\int\\cos xdx +\\int\\ln xdx + \\int e^x dx$$"
   ]
  },
  {
   "cell_type": "markdown",
   "metadata": {},
   "source": [
    "Интеграл натурального логарифма не является табличным, вычислим его с помощью интегрирования по частям:\n",
    "$$U = \\ln x, dV = dx, dU = \\frac{dx}{x}, V = x$$"
   ]
  },
  {
   "cell_type": "markdown",
   "metadata": {},
   "source": [
    "$$\\int\\ln x dx = x\\ln x - \\int x \\frac{dx}{x} = x\\ln x - x + C$$"
   ]
  },
  {
   "cell_type": "markdown",
   "metadata": {},
   "source": [
    "Таким образом, искомое решение:\n",
    "$$\\int(2x^2-2x-1+\\sin x - \\cos x + \\ln x + e^x)dx = \\frac{2x^3}{3} - x^2 - 2x - \\cos x - \\sin x + x \\ln x + e^x + C$$"
   ]
  },
  {
   "cell_type": "code",
   "execution_count": 6,
   "metadata": {},
   "outputs": [
    {
     "data": {
      "image/png": "[encoded data removed]",
      "text/latex": [
       "$\\displaystyle \\frac{2 x^{3}}{3} - x^{2} + x \\log{\\left(x \\right)} - 2 x + e^{x} - \\sin{\\left(x \\right)} - \\cos{\\left(x \\right)}$"
      ],
      "text/plain": [
       "   3                                             \n",
       "2*x     2                     x                  \n",
       "---- - x  + x*log(x) - 2*x + e  - sin(x) - cos(x)\n",
       " 3                                               "
      ]
     },
     "execution_count": 6,
     "metadata": {},
     "output_type": "execute_result"
    }
   ],
   "source": [
    "# проверим решение\n",
    "import sympy\n",
    "sympy.init_printing(use_unicode=False, wrap_line=False, no_global=True)\n",
    "x = sympy.Symbol('x')\n",
    "sympy.integrate(2*x**2 - 2*x - 1 + sympy.sin(x) - sympy.cos(x) + sympy.ln(x) + sympy.exp(x), x)"
   ]
  },
  {
   "cell_type": "markdown",
   "metadata": {},
   "source": [
    "_______\n",
    "#### 2. Найти неопределенный интеграл\n",
    "$$\\int(2x + 6xz^2-5x^2y-3\\ln z)dx = -5y\\int x^2dx + (6z^2 + 2)\\int xdx - 3\\ln z\\int dx = - \\frac{5yx^3}{3} + (3z^2 + 1)x^2  - 3\\ln z x + C$$"
   ]
  },
  {
   "cell_type": "markdown",
   "metadata": {},
   "source": [
    "______\n",
    "#### 3. Вычислить определенный интеграл\n",
    "$$\\int_0^\\pi3x^2\\cdot\\sin(2x)dx$$"
   ]
  },
  {
   "cell_type": "markdown",
   "metadata": {},
   "source": [
    "Используем метод интегрирования по частям:\n",
    "$$U = 3x^2, dV = \\sin(2x)dx, dU = 6xdx, V = -\\frac{cos(2x)}{2}$$"
   ]
  },
  {
   "cell_type": "markdown",
   "metadata": {},
   "source": [
    "Тогда:\n",
    "$$\\int3x^2\\cdot\\sin(2x)dx = -3x^2\\cdot\\frac{cos(2x)}{2} - \\int-3x\\cdot\\cos(2x)dx = -3x^2\\cdot\\frac{cos(2x)}{2} + \\int3x\\cdot\\cos(2x)dx$$"
   ]
  },
  {
   "cell_type": "markdown",
   "metadata": {},
   "source": [
    "Применим метод интегрирования по частям к $\\int3x\\cdot\\cos(2x)dx$:\n",
    "$$U = 3x, dV = \\cos(2x)dx, dU = 3dx, V = \\frac{\\sin(2x)}{2}$$"
   ]
  },
  {
   "cell_type": "markdown",
   "metadata": {},
   "source": [
    "Тогда:\n",
    "$$\\int3x\\cdot\\cos(2x)dx = \\frac{3x\\cdot\\sin(2x)}{2} - \\int3\\frac{\\sin(2x)dx}{2} =  \\frac{3x\\cdot\\sin(2x)}{2} + \\frac{3\\cos(2x)}{4} + C$$"
   ]
  },
  {
   "cell_type": "markdown",
   "metadata": {},
   "source": [
    "Получаем:\n",
    "$$\\int_0^\\pi3x^2\\cdot\\sin(2x)dx = \\left(-3x^2\\cdot\\frac{cos(2x)}{2} + \\frac{3x\\cdot\\sin(2x)}{2} + \\frac{3\\cos(2x)}{4}\\right)\\bigg|_0^\\pi$$"
   ]
  },
  {
   "cell_type": "markdown",
   "metadata": {},
   "source": [
    "$$f(\\pi) = -3\\pi^2\\cdot\\frac{cos(2\\pi)}{2} + \\frac{3\\pi\\cdot\\sin(2\\pi)}{2} + \\frac{3\\cos(2\\pi)}{4} = -\\frac{3\\pi^2}{2} + \\frac{3}{4}$$"
   ]
  },
  {
   "cell_type": "markdown",
   "metadata": {},
   "source": [
    "$$f(0) = -3\\cdot0\\cdot\\frac{cos(0)}{2} + \\frac{3\\cdot0\\cdot\\sin(0)}{2} + \\frac{3\\cos(0)}{4} = \\frac{3}{4}$$"
   ]
  },
  {
   "cell_type": "markdown",
   "metadata": {},
   "source": [
    "Откуда:\n",
    "$$\\int_0^\\pi3x^2\\cdot\\sin(2x)dx = \\left(-3x^2\\cdot\\frac{cos(2x)}{2} + \\frac{3x\\cdot\\sin(2x)}{2} + \\frac{3\\cos(2x)}{4}\\right)\\bigg|_0^\\pi = -\\frac{3\\pi^2}{2} + \\frac{3}{4} - \\frac{3}{4} = -\\frac{3\\pi^2}{2}$$"
   ]
  },
  {
   "cell_type": "code",
   "execution_count": 9,
   "metadata": {},
   "outputs": [
    {
     "data": {
      "image/png": "[encoded data removed]",
      "text/latex": [
       "$\\displaystyle - \\frac{3 \\pi^{2}}{2}$"
      ],
      "text/plain": [
       "     2 \n",
       "-3*pi  \n",
       "-------\n",
       "   2   "
      ]
     },
     "execution_count": 9,
     "metadata": {},
     "output_type": "execute_result"
    }
   ],
   "source": [
    "# проверим\n",
    "sympy.integrate(3*x**2*sympy.sin(2*x), (x, 0, sympy.pi))"
   ]
  },
  {
   "cell_type": "markdown",
   "metadata": {},
   "source": [
    "_______\n",
    "#### 4. Найти неопределенный интеграл\n",
    "$$\\int\\frac{1}{\\sqrt{x+1}}dx$$"
   ]
  },
  {
   "cell_type": "markdown",
   "metadata": {},
   "source": [
    "С учетом того, что dx = d(x+1), искомый интеграл можно привести к табличному:\n",
    "$$\\int\\frac{1}{\\sqrt{x+1}}dx = \\int(x+1)^{-\\frac{1}{2}}d(x+1) = \\frac{\\sqrt{x+1}}{-\\frac{1}{2} + 1} + C = 2\\sqrt{x+1} + C$$"
   ]
  },
  {
   "cell_type": "code",
   "execution_count": 12,
   "metadata": {},
   "outputs": [
    {
     "data": {
      "image/png": "[encoded data removed]",
      "text/latex": [
       "$\\displaystyle 2 \\sqrt{x + 1}$"
      ],
      "text/plain": [
       "    _______\n",
       "2*\\/ x + 1 "
      ]
     },
     "execution_count": 12,
     "metadata": {},
     "output_type": "execute_result"
    }
   ],
   "source": [
    "# проверим\n",
    "sympy.integrate(1/(sympy.sqrt(x+1)), x)"
   ]
  },
  {
   "cell_type": "code",
   "execution_count": null,
   "metadata": {},
   "outputs": [],
   "source": []
  }
 ],
 "metadata": {
  "kernelspec": {
   "display_name": "Python 3",
   "language": "python",
   "name": "python3"
  },
  "language_info": {
   "codemirror_mode": {
    "name": "ipython",
    "version": 3
   },
   "file_extension": ".py",
   "mimetype": "text/x-python",
   "name": "python",
   "nbconvert_exporter": "python",
   "pygments_lexer": "ipython3",
   "version": "3.8.5"
  }
 },
 "nbformat": 4,
 "nbformat_minor": 4
}
