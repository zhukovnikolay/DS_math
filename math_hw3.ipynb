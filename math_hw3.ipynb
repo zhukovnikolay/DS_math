{
 "cells": [
  {
   "cell_type": "markdown",
   "metadata": {},
   "source": [
    "## Homework 3\n",
    "### Тема \"Предел функции\".\n",
    "#### 1. Предложить пример функции, не имеющей предела в нуле и в бесконечностях."
   ]
  },
  {
   "cell_type": "markdown",
   "metadata": {},
   "source": [
    "Не имеют предела в нуле:\n",
    "$$ 1. f(x) = sgn(x) $$\n",
    "$$ 2. f(x) = \\frac{5}{x} $$\n",
    "Не имеют предела в бесконечностях:\n",
    "$$ 1. f(x) = (-1)^n $$\n",
    "$$ 2. f(x) = \\tan(x) $$"
   ]
  },
  {
   "cell_type": "markdown",
   "metadata": {},
   "source": [
    "#### 2. Привести пример функции, не имеющей предела в точке, но определенной в ней.\n",
    "$$ 1. f(x) = sgn(x) $$\n",
    "$$ 2. f(x) = \n",
    "    \\begin{cases} \n",
    "        x^3, &\\text{x $\\leq$ 1}\\\\\n",
    "        x-1, &\\text{x > 1}\n",
    "    \\end{cases}$$\n",
    "Пример 2: функция не имеет предела в точке x = 1, но определена в ней."
   ]
  },
  {
   "cell_type": "markdown",
   "metadata": {},
   "source": [
    "#### 3. Исследовать функцию $ f(x) = x^3 - x^2 $ по плану:\n",
    "1. Область определения и область значений.\n",
    "2. Нули функции и их кратность.\n",
    "3. Отрезки знакопостоянства.\n",
    "4. Интервалы монотонности.\n",
    "5. Четность функции.\n",
    "6. Ограниченность.\n",
    "7. Периодичность."
   ]
  },
  {
   "cell_type": "code",
   "execution_count": 51,
   "metadata": {},
   "outputs": [
    {
     "data": {
      "image/png": "[encoded data removed]",
      "text/plain": [
       "<Figure size 576x720 with 1 Axes>"
      ]
     },
     "metadata": {
      "needs_background": "light"
     },
     "output_type": "display_data"
    }
   ],
   "source": [
    "# построим график функции\n",
    "%matplotlib inline\n",
    "import matplotlib.pyplot as plt\n",
    "import numpy as np\n",
    "\n",
    "x = np.arange(-2, 2.5, 0.1)\n",
    "y = x**3 - x**2\n",
    "\n",
    "fig, ax = plt.subplots(figsize=(8,10))\n",
    "ax.plot(x, y)\n",
    "\n",
    "ax.set(xlabel='x', ylabel='f(x)',\n",
    "       title='График функции f(x) = x^3 - x^2')\n",
    "ax.set_xticks(np.arange(-2, 2.5, 0.5))\n",
    "ax.set_yticks(np.arange(-12, 8, 2))\n",
    "ax.grid(linewidth=0.8)\n",
    "plt.show()"
   ]
  },
  {
   "cell_type": "markdown",
   "metadata": {},
   "source": [
    "1. Область определения и область значений.\n",
    "$$D(f(x)) = \\mathbb {R}, E(f(x)) = \\mathbb {R}$$"
   ]
  },
  {
   "cell_type": "markdown",
   "metadata": {},
   "source": [
    "2. Нули функции и кратность.\n",
    "$$f(x) = x^3 - x^2 = x^2(x-1)=0$$\n",
    "x = 0, корень кратности 2\n",
    "x = 1, корень кратности 1."
   ]
  },
  {
   "cell_type": "markdown",
   "metadata": {},
   "source": [
    "3. Отрезки знакопостоянства.\n",
    "Т.к. $x^2>0$: \n",
    "$$f(x) > 0, x\\in(1; +\\infty)$$\n",
    "$$f(x) < 0, x\\in(-\\infty; 1)$$"
   ]
  },
  {
   "cell_type": "markdown",
   "metadata": {},
   "source": [
    "4. Интервалы монотонности.\n",
    "Найдем производную функции и ее критические точки:\n",
    "$$f'(x) = 3x^2 - 2x = 0, x_1 = 0, x_2 = \\frac{2}{3}$$\n",
    "С учетом области определения, имеем три интервала монотонности $(-\\infty; 0), (0, 1), (1; +\\infty)$.\n",
    "Подставим точки -1, 0.5, 2 из указанных интервалов в выражение для производной.\n",
    "$$f'(-1) = 3(-1)^2 - 2(-1) = 5$$\n",
    "$$f'(0.5) = 3(0.5)^2 - 2(0.5) = -0.25$$\n",
    "$$f'(2) = 3(2)^2 - 2(2) = 8$$\n",
    "Исследуемая функция на интервалах $(-\\infty; 0), (1; +\\infty)$ возрастает, на интервале $(0, 1)$ убывает."
   ]
  },
  {
   "cell_type": "markdown",
   "metadata": {},
   "source": [
    "5. Четность функции.\n",
    "Рассмотрим значение функции в точке (-x):\n",
    "$$f(-x) = (-x)^3 - (-x)^2 = -x^3 - x^2$$\n",
    "В точке (-x) не выполняется ни условие четности, ни условие нечетность $\\Rightarrow$ исследуемая функция - общего вида."
   ]
  },
  {
   "cell_type": "markdown",
   "metadata": {},
   "source": [
    "6. Ограниченность.\n",
    "Исследуемая функция неограничена, т.к. ее область значений неограничена."
   ]
  },
  {
   "cell_type": "markdown",
   "metadata": {},
   "source": [
    "7. Периодичность. Исследуемая функция не является периодической."
   ]
  },
  {
   "cell_type": "markdown",
   "metadata": {},
   "source": [
    "#### 4. Найти предел:"
   ]
  },
  {
   "cell_type": "markdown",
   "metadata": {},
   "source": [
    "$$1. \\lim_{x\\to0} \\frac{3x^3-2x^2}{4x^2} = \\frac{3x-2}{4} = \\frac{0-2}{4} = -0.5$$"
   ]
  },
  {
   "cell_type": "markdown",
   "metadata": {},
   "source": [
    "$$2. \\lim_{x\\to0} \\frac{\\sqrt{1+x}-1}{\\sqrt[3]{1+x}-1}=\n",
    "\\frac{\\sqrt{1+x}-1}{\\sqrt[3]{1+x}-1}\n",
    "\\cdot\\frac{\\sqrt{1+x}+1}{\\sqrt{1+x}+1}\n",
    "\\cdot\\frac{\\sqrt[3]{(1+x)^2}+\\sqrt[3]{(1+x)} + 1}{\\sqrt[3]{(1+x)^2}+\\sqrt[3]{(1+x)} + 1}=$$\n",
    "\n",
    "$$=\\frac{1+x-1}{1+x-1}\\cdot\\frac{\\sqrt[3]{(1+x)^2}+\\sqrt[3]{(1+x)} + 1}{\\sqrt{1+x}+1} = \\frac{3}{2} = 1.5$$"
   ]
  },
  {
   "cell_type": "code",
   "execution_count": null,
   "metadata": {},
   "outputs": [],
   "source": []
  }
 ],
 "metadata": {
  "kernelspec": {
   "display_name": "Python 3",
   "language": "python",
   "name": "python3"
  },
  "language_info": {
   "codemirror_mode": {
    "name": "ipython",
    "version": 3
   },
   "file_extension": ".py",
   "mimetype": "text/x-python",
   "name": "python",
   "nbconvert_exporter": "python",
   "pygments_lexer": "ipython3",
   "version": "3.8.5"
  }
 },
 "nbformat": 4,
 "nbformat_minor": 4
}
